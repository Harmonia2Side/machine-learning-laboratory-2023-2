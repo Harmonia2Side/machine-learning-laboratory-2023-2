{
  "cells": [
    {
      "cell_type": "markdown",
      "metadata": {
        "id": "lFBi0JnRjUZv"
      },
      "source": [
        "#**Aula 2 de Labortório de Aprendizado de Máquina**\n",
        "#Regressão Linear e Classificação Baseada em Distância\n",
        "\n"
      ]
    },
    {
      "cell_type": "markdown",
      "metadata": {
        "id": "PYYpFMFQlFsy"
      },
      "source": [
        "##Imports das bibliotecas principais"
      ]
    },
    {
      "cell_type": "code",
      "execution_count": 1,
      "metadata": {
        "id": "7eWDveiTi0_M"
      },
      "outputs": [],
      "source": [
        "import numpy as np\n",
        "import pandas as pd\n",
        "from sklearn import linear_model\n",
        "from sklearn import neighbors\n",
        "from sklearn import datasets\n",
        "from sklearn.model_selection import train_test_split\n",
        "from sklearn.model_selection import cross_val_score\n",
        "from sklearn.model_selection import GridSearchCV\n",
        "from sklearn import feature_selection\n",
        "import matplotlib.pyplot as plt"
      ]
    },
    {
      "cell_type": "markdown",
      "source": [
        "##Regressão Linear"
      ],
      "metadata": {
        "id": "Tg1p94wji3S-"
      }
    },
    {
      "cell_type": "markdown",
      "source": [
        "**1) Obtenha por regressão linear uma função que relaciona a variável x com a variável y. Verifique o efeito de padronizar por Z-score (média zero e desvio padrão unitário) x e y (com os dados de treinamento)**"
      ],
      "metadata": {
        "id": "TWLUa9QDjFL-"
      }
    },
    {
      "cell_type": "code",
      "source": [
        "np.random.seed(0)\n",
        "\n",
        "x = np.arange(0,10, 0.05)\n",
        "y = 2 + 3*x + np.random.normal(size=(200))\n",
        "plt.plot(x,y)\n",
        "plt.xlabel('x')\n",
        "plt.ylabel('y')\n",
        "\n",
        "x_train = x[0:100]\n",
        "y_train = y[0:100]\n",
        "\n",
        "x_test = x[100:]\n",
        "y_test = y[100:]\n",
        "\n",
        "#Z-score\n",
        "#mean_x = np.mean(x_train)\n",
        "#std_x = np.std(x_train)\n",
        "#mean_y = np.mean(y_train)\n",
        "#std_y = np.std(y_train)\n",
        "\n",
        "#x_train = (x_train - mean_x)/std_x\n",
        "#x_test = (x_test - mean_x)/std_x\n",
        "#y_train = (y_train - mean_y)/std_y\n",
        "#y_test = (y_test - mean_y)/std_y\n",
        "\n",
        "X = np.vstack((np.ones(100),x_train)).T\n",
        "w = np.linalg.inv(X.T @ X) @ X.T @ y_train\n",
        "print(f'coeficientes método da pseudo inversa: {w}')\n",
        "\n",
        "y_est = np.vstack((np.ones(100),x_test)).T @ w\n",
        "\n",
        "RMSE = np.sqrt(np.sum((y_est - y_test)**2)/y_test.size)\n",
        "print(f'RMSE: {\"{:.4f}\".format(RMSE)}')\n",
        "\n",
        "x_train = np.array([x_train]).T\n",
        "y_train = np.array([y_train]).T\n",
        "\n",
        "reg = linear_model.LinearRegression().fit(x_train, y_train)\n",
        "print(f'coeficientes método do sklearn: {np.vstack([reg.intercept_, reg.coef_])}')\n",
        "\n",
        "x_test = np.array([x_test]).T\n",
        "y_test = np.array([y_test]).T\n",
        "RMSE = np.sqrt(np.sum((reg.predict(x_test) - y_test)**2)/y_test.size)\n",
        "print(f'RMSE do sklearn: {\"{:.4f}\".format(RMSE)}')"
      ],
      "metadata": {
        "id": "cHeKGDBfjSrm"
      },
      "execution_count": null,
      "outputs": []
    },
    {
      "cell_type": "markdown",
      "source": [
        "**2) Estime os valores das casas da base de dados california_housing por regressão linear**"
      ],
      "metadata": {
        "id": "DLMZcK-p5ZLI"
      }
    },
    {
      "cell_type": "code",
      "source": [
        "raw_data = datasets.fetch_california_housing()\n",
        "print(raw_data.DESCR)\n",
        "\n",
        "data = pd.DataFrame(np.c_[raw_data[\"data\"],raw_data[\"target\"]], columns=list(raw_data[\"feature_names\"]) + [\"target\"])\n",
        "display(data.head())\n",
        "data.describe()"
      ],
      "metadata": {
        "id": "DmTQseLl5Yp3"
      },
      "execution_count": null,
      "outputs": []
    },
    {
      "cell_type": "code",
      "source": [
        "features_of_interest = [\"MedInc\", \"HouseAge\", \"AveRooms\", \"AveBedrms\", \"Population\", \"AveOccup\", \"Latitude\", \"Longitude\"]\n",
        "X_train = data.iloc[0:15000][features_of_interest]\n",
        "X_test = data.iloc[15000:][features_of_interest]\n",
        "\n",
        "y_train = data.iloc[0:15000][\"target\"]\n",
        "y_test = data.iloc[15000:][\"target\"]\n",
        "\n",
        "reg = linear_model.LinearRegression().fit(X_train, y_train)\n",
        "print(f'coeficientes método do sklearn: {np.hstack([reg.intercept_, reg.coef_])}')\n",
        "RMSE = np.sqrt(np.sum((reg.predict(X_test) - y_test)**2)/y_test.shape[0])\n",
        "print(f'RMSE do sklearn: {\"{:.4f}\".format(RMSE)}')\n",
        "\n",
        "#reg = linear_model.Lasso().fit(X_train, y_train)\n",
        "#print(f'coeficientes método do sklearn: {np.hstack([reg.intercept_, reg.coef_])}')\n",
        "#RMSE = np.sqrt(np.sum((reg.predict(X_test) - y_test)**2)/y_test.shape[0])\n",
        "#print(f'RMSE do sklearn: {\"{:.4f}\".format(RMSE)}')"
      ],
      "metadata": {
        "id": "3vIDSVu0_owe"
      },
      "execution_count": null,
      "outputs": []
    },
    {
      "cell_type": "markdown",
      "source": [
        "**3) Use o kNN para classificar a base de dados iris. Use métodos de hold-out e k-fold para avaliar o resultado. Use o método de Grid Search para encontrar o melhor valor de k**"
      ],
      "metadata": {
        "id": "VNh0cVlUDOEd"
      }
    },
    {
      "cell_type": "code",
      "source": [
        "raw_data = datasets.load_iris()\n",
        "print(raw_data.DESCR)\n",
        "\n",
        "data = pd.DataFrame(np.c_[raw_data[\"data\"],raw_data[\"target\"]], columns=list(raw_data[\"feature_names\"]) + [\"target\"])\n",
        "display(data.head())\n",
        "data.describe()"
      ],
      "metadata": {
        "id": "FThVw9uzDbkr"
      },
      "execution_count": null,
      "outputs": []
    },
    {
      "cell_type": "code",
      "source": [
        "\n",
        "X = data.drop(columns=[\"target\"])\n",
        "y = data[\"target\"]\n",
        "\n",
        "X_train, X_test, y_train, y_test = train_test_split(X, y, test_size=0.2, random_state=1, stratify = y)\n",
        "\n",
        "model = neighbors.KNeighborsClassifier(n_neighbors = 3)\n",
        "model.fit(X_train,y_train)\n",
        "model.predict(X_test)\n",
        "acc = model.score(X_test, y_test)\n",
        "print(f\"Acurácia: {acc*100}%\")\n",
        "\n",
        "#k-fold\n",
        "#cv_scores = cross_val_score(model, X, y, cv=5, scoring = \"accuracy\")\n",
        "#print(cv_scores)\n",
        "#print(\"cv_scores médio:{}\".format(np.mean(cv_scores)))\n",
        "\n",
        "#Grid Search\n",
        "#model = neighbors.KNeighborsClassifier()\n",
        "#param_grid = {\"n_neighbors\": np.arange(1, 10)}\n",
        "#knn_gscv = GridSearchCV(model, param_grid, cv=5)\n",
        "#knn_gscv.fit(X_train, y_train)\n",
        "#print(f\"Melhor valor de k: {knn_gscv.best_params_} e melhor resultado: {knn_gscv.best_score_}\")\n",
        "\n",
        "#for dicts in knn_gscv.best_params_:\n",
        "#  k = knn_gscv.best_params_[dicts]\n",
        "\n",
        "#model = neighbors.KNeighborsClassifier(n_neighbors = k)\n",
        "#model.fit(X_train,y_train)\n",
        "#model.predict(X_test)\n",
        "#acc = model.score(X_test, y_test)\n",
        "#print(f\"Acurácia: {acc*100}%\")"
      ],
      "metadata": {
        "id": "xMqq1b2WDwtb"
      },
      "execution_count": null,
      "outputs": []
    },
    {
      "cell_type": "markdown",
      "source": [
        "**4) Realize a classificação da base de dados Wine com o kNN e o Rocchio. Avalie o uso de Z-score e do SFS para seleção de features**"
      ],
      "metadata": {
        "id": "QdL3tlRYRNkc"
      }
    },
    {
      "cell_type": "code",
      "source": [
        "raw_data = datasets.load_wine()\n",
        "print(raw_data.DESCR)\n",
        "\n",
        "data = pd.DataFrame(np.c_[raw_data[\"data\"],raw_data[\"target\"]], columns=list(raw_data[\"feature_names\"]) + [\"target\"])\n",
        "display(data.head())\n",
        "data.describe()"
      ],
      "metadata": {
        "id": "2UE04bAKXfoY"
      },
      "execution_count": null,
      "outputs": []
    },
    {
      "cell_type": "code",
      "source": [
        "X = data.drop(columns=[\"target\"])\n",
        "y = data[\"target\"]\n",
        "\n",
        "X_train, X_test, y_train, y_test = train_test_split(X, y, test_size=0.2, random_state=1, stratify = y)\n",
        "\n",
        "\n",
        "#Z-score\n",
        "#mean_X = np.mean(X_train,axis=0)\n",
        "#std_X = np.std(X_train,axis=0)\n",
        "#X_train = (X_train - mean_X)/std_X\n",
        "#X_test = (X_test - mean_X)/std_X\n",
        "\n",
        "\n",
        "#SFS\n",
        "#model = neighbors.KNeighborsClassifier(n_neighbors = 3)\n",
        "#sfs = feature_selection.SequentialFeatureSelector(model,n_features_to_select=3)\n",
        "#sfs.fit(X_train, y_train)\n",
        "#print(sfs.get_support())\n",
        "#X_train = sfs.transform(X_train)\n",
        "#X_test = sfs.transform(X_test)\n",
        "\n",
        "\n",
        "model = neighbors.KNeighborsClassifier(n_neighbors = 3)\n",
        "model.fit(X_train,y_train)\n",
        "model.predict(X_test)\n",
        "acc = model.score(X_test, y_test)\n",
        "print(f\"Acurácia do kNN: {acc*100}%\")\n",
        "\n",
        "\n",
        "#Rocchio ou Classificador Baseado em Centroide\n",
        "#classes = y_train.unique()\n",
        "#X_train_prot = np.zeros([classes.size,X_train.shape[1]])\n",
        "#y_train_prot = np.zeros([classes.size,1])\n",
        "#for classe in range(0,classes.size):\n",
        "#  X_train_prot[classe] = np.mean(X_train[y_train==classe],axis=0)\n",
        "#  y_train_prot[classe] = classe\n",
        "#y_train_prot = y_train_prot.ravel()\n",
        "\n",
        "#print(X_train_prot)\n",
        "\n",
        "#model = neighbors.KNeighborsClassifier(n_neighbors = 1)\n",
        "#model.fit(X_train_prot,y_train_prot)\n",
        "#model.predict(X_test)\n",
        "#acc = model.score(X_test, y_test)\n",
        "#print(f\"Acurácia do Rocchio implementado: {acc*100}%\")\n",
        "\n",
        "#model = neighbors.NearestCentroid()\n",
        "#model.fit(X_train,y_train)\n",
        "##print(model.centroids_)\n",
        "#model.predict(X_test)\n",
        "#acc = model.score(X_test, y_test)\n",
        "#print(f\"Acurácia do Rocchio do sklearn: {acc*100}%\")\n",
        "\n"
      ],
      "metadata": {
        "id": "s7w8nAi7dRDG"
      },
      "execution_count": null,
      "outputs": []
    }
  ],
  "metadata": {
    "colab": {
      "provenance": []
    },
    "kernelspec": {
      "display_name": "Python 3",
      "name": "python3"
    },
    "language_info": {
      "name": "python"
    }
  },
  "nbformat": 4,
  "nbformat_minor": 0
}