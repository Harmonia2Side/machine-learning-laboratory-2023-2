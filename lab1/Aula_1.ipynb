{
  "nbformat": 4,
  "nbformat_minor": 0,
  "metadata": {
    "colab": {
      "provenance": []
    },
    "kernelspec": {
      "name": "python3",
      "display_name": "Python 3"
    },
    "language_info": {
      "name": "python"
    }
  },
  "cells": [
    {
      "cell_type": "markdown",
      "source": [
        "#**Aula 1 de Labortório de Aprendizado de Máquina**\n",
        "#Visualização e Pré-processamento de Dados\n",
        "\n"
      ],
      "metadata": {
        "id": "lFBi0JnRjUZv"
      }
    },
    {
      "cell_type": "markdown",
      "source": [
        "##Imports das bibliotecas principais"
      ],
      "metadata": {
        "id": "PYYpFMFQlFsy"
      }
    },
    {
      "cell_type": "code",
      "execution_count": 18,
      "metadata": {
        "id": "7eWDveiTi0_M"
      },
      "outputs": [],
      "source": [
        "import numpy as np\n",
        "import pandas as pd\n",
        "import matplotlib.pyplot as plt\n",
        "import seaborn as sb"
      ]
    },
    {
      "cell_type": "markdown",
      "source": [
        "##Análise das variáveis da base de dados (dados de classificação)"
      ],
      "metadata": {
        "id": "6NL5okUgFOoW"
      }
    },
    {
      "cell_type": "code",
      "source": [
        "#Faz a leitura do arquivo com os dados\n",
        "#header = None --> o arquivo não tem cabeçalho\n",
        "#names --> coloca nomes para cada coluna\n",
        "data = pd.read_csv('/content/iris.data', header = None, names = ['sepal length', 'sepal width', 'petal length', 'petal width', 'class']) #iris\n",
        "#data = pd.read_csv('/content/abalone.data', header = None, names = ['sex', 'length', 'diameter', 'height', 'whole weight', 'shucked weight', 'viscera weight', 'shell weight', 'class']) #abalone\n",
        "data.head()"
      ],
      "metadata": {
        "id": "2kIs10u8lLrq"
      },
      "execution_count": null,
      "outputs": []
    },
    {
      "cell_type": "code",
      "source": [
        "#Retorna as principais informações estatísticas da base de dados\n",
        "data.describe()"
      ],
      "metadata": {
        "id": "GiID5YytnHUn"
      },
      "execution_count": null,
      "outputs": []
    },
    {
      "cell_type": "code",
      "source": [
        "#Pode usar informações estatísticas individuais\n",
        "#data.iloc --> permite selecionar valores que pertecem a uma determinada linha e coluna do conjunto de dados\n",
        "#Foram selecionados somente as variáveis numéricas\n",
        "\n",
        "iris = np.arange(0,4)\n",
        "abalone = np.arange(1,8)\n",
        "faixa = iris\n",
        "\n",
        "print('Média')\n",
        "print(data.iloc[:,faixa].mean())\n",
        "\n",
        "print('\\r\\nVariância')\n",
        "print(data.iloc[:,faixa].var())\n",
        "\n",
        "print('\\r\\nMAD')\n",
        "print(data.iloc[:,faixa].mad())\n",
        "\n",
        "#Teste outras, como min, max, cov, etc.\n",
        "\n",
        "#Teste acessar as variáveis pelo nome:\n",
        "#print(data[['sepal length']].mean())\n",
        "#print(data[['sepal length', 'petal width']].mean())"
      ],
      "metadata": {
        "id": "EUhB2uxqHNg-"
      },
      "execution_count": null,
      "outputs": []
    },
    {
      "cell_type": "code",
      "source": [
        "#Duas formas diferentes de visualizar os boxplots\n",
        "data.boxplot()\n",
        "sb.catplot(kind = 'box', data = data)"
      ],
      "metadata": {
        "id": "hOliY8Z0yozp"
      },
      "execution_count": null,
      "outputs": []
    },
    {
      "cell_type": "code",
      "source": [
        "#Visualizar boxplots da variável 'sepal length' para cada uma das classes\n",
        "sb.catplot(y = 'sepal length', x = 'class', kind = 'box', data = data) #iris\n",
        "#sb.catplot(y = 'length', x = 'class', kind = 'box', data = data) #abalone"
      ],
      "metadata": {
        "id": "tVwQdpRrzCJB"
      },
      "execution_count": null,
      "outputs": []
    },
    {
      "cell_type": "code",
      "source": [
        "#Visualizar gráficos pairwise (2 varíaveis por vez em um plano).\n",
        "#hue coloca cor nos pontos conforme a classe que eles pertencem\n",
        "#Na diagonal principal é mostrado\n",
        "#kde --> estimativa da função de distribuição da variável\n",
        "#hist --> histograma da variável\n",
        "\n",
        "sb.pairplot(data, hue=\"class\", diag_kind = 'kde')"
      ],
      "metadata": {
        "id": "1D3IzIQ3vF8m"
      },
      "execution_count": null,
      "outputs": []
    },
    {
      "cell_type": "code",
      "source": [
        "#Mostrar o mapa de calor das variáveis\n",
        "sb.heatmap(data.iloc[:,faixa], cmap = 'Greens')"
      ],
      "metadata": {
        "id": "laMgZ4dLwP7E"
      },
      "execution_count": null,
      "outputs": []
    },
    {
      "cell_type": "code",
      "source": [
        "#Visualizar mapa de calor para cada classe\n",
        "\n",
        "#Este comando serve para pegar as classes únicas\n",
        "classes = data['class'].unique()\n",
        "\n",
        "for i in range(0,classes.size):\n",
        "  data_select = data[data['class'] == classes[i]]\n",
        "  fig = plt.subplots(figsize=(10,4))\n",
        "  sb.heatmap(data_select.iloc[:,faixa], vmin = np.min(data_select.iloc[:,faixa].min()), vmax = np.max(data_select.iloc[:,faixa].max()))\n",
        "  plt.title(classes[i])\n",
        "  plt.yticks(rotation = 0)"
      ],
      "metadata": {
        "id": "DxbEts_cxBXM"
      },
      "execution_count": null,
      "outputs": []
    },
    {
      "cell_type": "markdown",
      "source": [
        "##Aplicar PCA para visualizar os dados em 2D"
      ],
      "metadata": {
        "id": "77GIwz4hP2dO"
      }
    },
    {
      "cell_type": "code",
      "source": [
        "#Obter autovalores (eigValues) e autovetores (eigVectors)\n",
        "#Compare os gráficos com matriz de covariância e matriz de coef. de correlação\n",
        "\n",
        "#Usando matriz de covariância\n",
        "eigValues, eigVectors = np.linalg.eig(data.iloc[:,faixa].cov())\n",
        "print(eigValues)\n",
        "print(eigVectors)\n",
        "\n",
        "#Subtrair dos dados a média\n",
        "new_data = data.iloc[:,faixa] - data.iloc[:,faixa].mean()\n",
        "\n",
        "\n",
        "#Usando matriz de coef. de correlação\n",
        "#eigValues, eigVectors = np.linalg.eig(data.iloc[:,faixa].corr())\n",
        "#print(eigValues)\n",
        "#print(eigVectors)\n",
        "\n",
        "#Subtrair dos dados a média e divide pelo desvio padrão\n",
        "#new_data = (data.iloc[:,faixa] - data.iloc[:,faixa].mean())/data.iloc[:,faixa].std()\n",
        "\n",
        "#Seleciona os dois autovetores associados aos maiores autovalores\n",
        "#M será a matriz de projeção dos dados\n",
        "M = eigVectors[:,0:2]\n",
        "\n",
        "#Projeta os dados nos autovetores principais\n",
        "proj_data = new_data @ M\n",
        "\n",
        "classes = data['class'].unique()\n",
        "\n",
        "#Plota o gráfico\n",
        "color = ['or','ob','og']\n",
        "plt.figure(figsize=(20,10))\n",
        "for i in range(0,classes.size):\n",
        "  data_select = proj_data[data['class'] == classes[i]]\n",
        "  plt.plot(data_select[1],data_select[0],color[i]) #Iris\n",
        "  #plt.plot(data_select[1],data_select[0],marker='o',linestyle='',color = np.random.uniform(0,1,3)) #Abalone"
      ],
      "metadata": {
        "id": "99bdrd5En0w-"
      },
      "execution_count": null,
      "outputs": []
    },
    {
      "cell_type": "markdown",
      "source": [
        "##Pré-processamento de Dados"
      ],
      "metadata": {
        "id": "7kx8H7plsdV6"
      }
    },
    {
      "cell_type": "code",
      "source": [
        "#Observe a presença de NaN na base de dados (em linhas e colunas)\n",
        "data = pd.read_csv('/content/AirQualityUCI.csv', sep = ';', thousands=',')\n",
        "data.describe()"
      ],
      "metadata": {
        "id": "7TS51rzctnJC"
      },
      "execution_count": null,
      "outputs": []
    },
    {
      "cell_type": "code",
      "source": [
        "#O comando data.fillna(-100) preenche NaN com o valor -100\n",
        "data.fillna(-100)"
      ],
      "metadata": {
        "id": "ly6t_wdlw9uy"
      },
      "execution_count": null,
      "outputs": []
    },
    {
      "cell_type": "code",
      "source": [
        "#Removendo NaN\n",
        "#O comando data.dropna(axis=1,how = 'all') remove colunas que tenham somente NaN\n",
        "dataNoNan = data.dropna(axis=1,how = 'all')\n",
        "#O comando data.dropna(axis=0,how = 'all') remove linhas que tenham somente NaN\n",
        "dataNoNan = dataNoNan.dropna(axis=0,how = 'all')\n",
        "dataNoNan\n",
        "#Observe que o número de linhas reduziu para 9357 e colunas para 15"
      ],
      "metadata": {
        "id": "J_gt02wnu1Ca"
      },
      "execution_count": null,
      "outputs": []
    },
    {
      "cell_type": "code",
      "source": [
        "#Os valores iguais a -200 são valores que estão faltando.\n",
        "#Podemos remover as amostras com valores faltantes\n",
        "dataNoNan.replace(-200,np.nan).dropna()\n",
        "#Observe que não é uma boa estratégia, pois reduz substancialmente a base de dados"
      ],
      "metadata": {
        "id": "LS4_t0QVxVvK"
      },
      "execution_count": null,
      "outputs": []
    },
    {
      "cell_type": "code",
      "source": [
        "#Podemos preencher os valores que estão faltando com a média\n",
        "dataNoNan = dataNoNan.replace(-200,dataNoNan.mean())\n",
        "dataNoNan"
      ],
      "metadata": {
        "id": "Ktinlrh5xIrx"
      },
      "execution_count": null,
      "outputs": []
    },
    {
      "cell_type": "code",
      "source": [
        "#Amostras redundantes podem ser removidas\n",
        "dataNoNan = dataNoNan.drop_duplicates()\n",
        "dataNoNan.shape\n",
        "#Como o tamanho não reduziu, não havia amostras redundantes"
      ],
      "metadata": {
        "id": "ckK4N8GI1VWB"
      },
      "execution_count": null,
      "outputs": []
    },
    {
      "cell_type": "code",
      "source": [
        "#Amostras redundantes podem ser removidas baseadas em um valor de variável, por exemplo, Time\n",
        "dataNoNan = dataNoNan.drop_duplicates('Time')\n",
        "dataNoNan"
      ],
      "metadata": {
        "id": "EkqNb1Wt1vhp"
      },
      "execution_count": null,
      "outputs": []
    },
    {
      "cell_type": "code",
      "source": [
        "#Aplicando uma padronização Z-Score para cada variável da base de dados\n",
        "f = lambda x: (x - x.mean())/x.std()\n",
        "dataNoNan2 = dataNoNan.iloc[:,2:-1]\n",
        "sb.catplot(kind = 'box', data = dataNoNan2.apply(f))\n",
        "dataNoNan2.apply(f).describe()"
      ],
      "metadata": {
        "id": "FKftfIH63z8q"
      },
      "execution_count": null,
      "outputs": []
    },
    {
      "cell_type": "code",
      "source": [
        "#Aplicando uma padronização MAD para cada variável da base de dados\n",
        "f = lambda x: (x - x.median())/x.mad()\n",
        "dataNoNan2 = dataNoNan.iloc[:,2:-1]\n",
        "sb.catplot(kind = 'box', data = dataNoNan2.apply(f))\n",
        "dataNoNan2.apply(f).describe()"
      ],
      "metadata": {
        "id": "TPXNOeKKCtal"
      },
      "execution_count": null,
      "outputs": []
    },
    {
      "cell_type": "code",
      "source": [
        "#Aplicando uma normalização min-max para cada variável da base de dados\n",
        "f = lambda x: (x - x.min())/(x.max() - x.min())\n",
        "dataNoNan2 = dataNoNan.iloc[:,2:-1]\n",
        "sb.catplot(kind = 'box', data = dataNoNan2.apply(f))\n",
        "dataNoNan2.apply(f).describe()"
      ],
      "metadata": {
        "id": "217uyBPUBHnT"
      },
      "execution_count": null,
      "outputs": []
    }
  ]
}