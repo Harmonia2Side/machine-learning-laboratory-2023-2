{
 "cells": [
  {
   "cell_type": "markdown",
   "metadata": {},
   "source": [
    "### Bibliotecas"
   ]
  },
  {
   "cell_type": "code",
   "execution_count": 2,
   "metadata": {},
   "outputs": [
    {
     "name": "stdout",
     "output_type": "stream",
     "text": [
      "Requirement already satisfied: numpy in ./.venv/lib/python3.10/site-packages (1.26.2)\n",
      "Requirement already satisfied: matplotlib in ./.venv/lib/python3.10/site-packages (3.8.2)\n",
      "Requirement already satisfied: pandas in ./.venv/lib/python3.10/site-packages (2.1.4)\n",
      "Requirement already satisfied: seaborn in ./.venv/lib/python3.10/site-packages (0.13.0)\n",
      "Requirement already satisfied: contourpy>=1.0.1 in ./.venv/lib/python3.10/site-packages (from matplotlib) (1.2.0)\n",
      "Requirement already satisfied: cycler>=0.10 in ./.venv/lib/python3.10/site-packages (from matplotlib) (0.12.1)\n",
      "Requirement already satisfied: fonttools>=4.22.0 in ./.venv/lib/python3.10/site-packages (from matplotlib) (4.46.0)\n",
      "Requirement already satisfied: kiwisolver>=1.3.1 in ./.venv/lib/python3.10/site-packages (from matplotlib) (1.4.5)\n",
      "Requirement already satisfied: packaging>=20.0 in ./.venv/lib/python3.10/site-packages (from matplotlib) (23.2)\n",
      "Requirement already satisfied: pillow>=8 in ./.venv/lib/python3.10/site-packages (from matplotlib) (10.1.0)\n",
      "Requirement already satisfied: pyparsing>=2.3.1 in ./.venv/lib/python3.10/site-packages (from matplotlib) (3.1.1)\n",
      "Requirement already satisfied: python-dateutil>=2.7 in ./.venv/lib/python3.10/site-packages (from matplotlib) (2.8.2)\n",
      "Requirement already satisfied: pytz>=2020.1 in ./.venv/lib/python3.10/site-packages (from pandas) (2023.3.post1)\n",
      "Requirement already satisfied: tzdata>=2022.1 in ./.venv/lib/python3.10/site-packages (from pandas) (2023.3)\n",
      "Requirement already satisfied: six>=1.5 in ./.venv/lib/python3.10/site-packages (from python-dateutil>=2.7->matplotlib) (1.16.0)\n"
     ]
    }
   ],
   "source": [
    "# Instalação manual de bibliotecas\n",
    "!pip install numpy matplotlib pandas seaborn\n",
    "# Bibliotecas\n",
    "\n",
    "\n",
    "\n",
    "import numpy as np\n",
    "import pandas as pd\n",
    "import matplotlib.pyplot as plt\n",
    "import seaborn as sb\n",
    "import math\n"
   ]
  },
  {
   "cell_type": "markdown",
   "metadata": {},
   "source": [
    "# Questões teóricas"
   ]
  },
  {
   "cell_type": "markdown",
   "metadata": {},
   "source": [
    "## 1) Explique o porquê do classificador Naive Bayes ser robusto a um atributo com valor constante ao longo de todas as amostras de um conjunto de dados."
   ]
  },
  {
   "cell_type": "markdown",
   "metadata": {},
   "source": [
    "O classificador Naive Bayes parte do pressuposto de que os valores dos atributos de cada amostra são independentes entre si, ou seja, que não há correlação entre um atributo x1 e outro atributo qualquer da mesma amostra, x2.\n",
    "\n",
    "A partir dessa premissa, ele realiza a classificação da seguinte forma:\n",
    "- Calcula-se a probabilidade de, dado os atributos de uma amostra, aquela amostra pertencer a uma das classes possíveis\n",
    "- Repete-se o processo, para cada uma das classes possíveis\n",
    "- A classe com maior probabilidade, dado o conjunto de atributos de uma amostra, é escolhida para a classificação.\n",
    "\n",
    "As probabilidades são calculadas a partir da frequência dos atributos da base de dados existente, "
   ]
  },
  {
   "cell_type": "markdown",
   "metadata": {},
   "source": [
    "## 2) Explique com suas palavras como funciona o algoritmo DBSCAN para agrupar as amostras."
   ]
  },
  {
   "cell_type": "markdown",
   "metadata": {},
   "source": [
    "O Algoritmo DBSCAN requer dois hiperparâmetros: $Eps$ e $MinPts$.\n",
    "\n",
    "$Eps$ representa o raio de agrupamento, e $MinPts$ representa um número mínimo de pontos.\n",
    "\n",
    "Munido desses dois valores, o algoritmo irá analisar ponto por ponto. Para um determinado ponto $P_i$, o algoritmo irá verificar quantos outros pontos existem dentro do raio $Eps$ de distância desse ponto. Se o número de pontos for maior ou igual a $MinPts$, o ponto $P_i$ é denominado como um ponto de núcleo. O processo é repetido até que todos os pontos tenham sido avaliados.\n",
    "\n",
    "Quando dois pontos de núcleo estão dentro do raio de agrupamento um do outro, eles formam um grupo, ou cluster. Pontos dentro do raio de agrupamento de pontos de núcleo mas que não são eles mesmos pontos de núcleo são denominados pontos de borda."
   ]
  }
 ],
 "metadata": {
  "kernelspec": {
   "display_name": ".venv",
   "language": "python",
   "name": "python3"
  },
  "language_info": {
   "codemirror_mode": {
    "name": "ipython",
    "version": 3
   },
   "file_extension": ".py",
   "mimetype": "text/x-python",
   "name": "python",
   "nbconvert_exporter": "python",
   "pygments_lexer": "ipython3",
   "version": "3.10.12"
  },
  "orig_nbformat": 4
 },
 "nbformat": 4,
 "nbformat_minor": 2
}
