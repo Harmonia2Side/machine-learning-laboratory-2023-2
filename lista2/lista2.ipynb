{
 "cells": [
  {
   "cell_type": "markdown",
   "metadata": {},
   "source": [
    "### Bibliotecas"
   ]
  },
  {
   "cell_type": "code",
   "execution_count": null,
   "metadata": {},
   "outputs": [],
   "source": [
    "# Instalação manual de bibliotecas\n",
    "!pip install numpy matplotlib pandas seaborn\n",
    "# Bibliotecas\n",
    "\n",
    "\n",
    "import numpy as np\n",
    "import pandas as pd\n",
    "import matplotlib.pyplot as plt\n",
    "import seaborn as sb\n",
    "import math\n"
   ]
  },
  {
   "cell_type": "markdown",
   "metadata": {},
   "source": [
    "# Questões Práticas"
   ]
  },
  {
   "cell_type": "markdown",
   "metadata": {},
   "source": [
    "## 1) Para a base Car Evaluation, considerando que o primeiro atributo é x1, o segundo é x2 e assim por diante, estime as probabilidades:\n"
   ]
  },
  {
   "cell_type": "code",
   "execution_count": 92,
   "metadata": {},
   "outputs": [
    {
     "data": {
      "text/html": [
       "<div>\n",
       "<style scoped>\n",
       "    .dataframe tbody tr th:only-of-type {\n",
       "        vertical-align: middle;\n",
       "    }\n",
       "\n",
       "    .dataframe tbody tr th {\n",
       "        vertical-align: top;\n",
       "    }\n",
       "\n",
       "    .dataframe thead th {\n",
       "        text-align: right;\n",
       "    }\n",
       "</style>\n",
       "<table border=\"1\" class=\"dataframe\">\n",
       "  <thead>\n",
       "    <tr style=\"text-align: right;\">\n",
       "      <th></th>\n",
       "      <th>x1</th>\n",
       "      <th>x2</th>\n",
       "      <th>x3</th>\n",
       "      <th>x4</th>\n",
       "      <th>x5</th>\n",
       "      <th>x6</th>\n",
       "      <th>x7</th>\n",
       "    </tr>\n",
       "  </thead>\n",
       "  <tbody>\n",
       "    <tr>\n",
       "      <th>0</th>\n",
       "      <td>vhigh</td>\n",
       "      <td>vhigh</td>\n",
       "      <td>2</td>\n",
       "      <td>2</td>\n",
       "      <td>small</td>\n",
       "      <td>low</td>\n",
       "      <td>unacc</td>\n",
       "    </tr>\n",
       "    <tr>\n",
       "      <th>1</th>\n",
       "      <td>vhigh</td>\n",
       "      <td>vhigh</td>\n",
       "      <td>2</td>\n",
       "      <td>2</td>\n",
       "      <td>small</td>\n",
       "      <td>med</td>\n",
       "      <td>unacc</td>\n",
       "    </tr>\n",
       "    <tr>\n",
       "      <th>2</th>\n",
       "      <td>vhigh</td>\n",
       "      <td>vhigh</td>\n",
       "      <td>2</td>\n",
       "      <td>2</td>\n",
       "      <td>small</td>\n",
       "      <td>high</td>\n",
       "      <td>unacc</td>\n",
       "    </tr>\n",
       "    <tr>\n",
       "      <th>3</th>\n",
       "      <td>vhigh</td>\n",
       "      <td>vhigh</td>\n",
       "      <td>2</td>\n",
       "      <td>2</td>\n",
       "      <td>med</td>\n",
       "      <td>low</td>\n",
       "      <td>unacc</td>\n",
       "    </tr>\n",
       "    <tr>\n",
       "      <th>4</th>\n",
       "      <td>vhigh</td>\n",
       "      <td>vhigh</td>\n",
       "      <td>2</td>\n",
       "      <td>2</td>\n",
       "      <td>med</td>\n",
       "      <td>med</td>\n",
       "      <td>unacc</td>\n",
       "    </tr>\n",
       "  </tbody>\n",
       "</table>\n",
       "</div>"
      ],
      "text/plain": [
       "      x1     x2 x3 x4     x5    x6     x7\n",
       "0  vhigh  vhigh  2  2  small   low  unacc\n",
       "1  vhigh  vhigh  2  2  small   med  unacc\n",
       "2  vhigh  vhigh  2  2  small  high  unacc\n",
       "3  vhigh  vhigh  2  2    med   low  unacc\n",
       "4  vhigh  vhigh  2  2    med   med  unacc"
      ]
     },
     "execution_count": 92,
     "metadata": {},
     "output_type": "execute_result"
    }
   ],
   "source": [
    "## Leitura inicial\n",
    "\n",
    "# features = ['buying', 'maint', 'doors', 'persons', 'lug_boot', 'safety', 'class']\n",
    "features   = ['x1', 'x2', 'x3', 'x4', 'x5', 'x6', 'x7']\n",
    "data = pd.read_csv('data/car.data', header = None, names = features)\n",
    "\n",
    "data.head()"
   ]
  },
  {
   "cell_type": "markdown",
   "metadata": {},
   "source": [
    "### a) P(x1 =med) e P(x2 = low)"
   ]
  },
  {
   "cell_type": "markdown",
   "metadata": {},
   "source": [
    "Para estimar as probabilidades, usamos a equação:\n",
    "\n",
    "$$ P(x) = \\frac{N(x)}{N(\\Omega)}$$\n",
    "\n",
    "Onde $N$ denota quantidade de amostras e $\\Omega$ é o espaço amostral. $N(\\Omega)$ representa o número de amostras totais, ou seja, todas as possibilidades do espaço amostral."
   ]
  },
  {
   "cell_type": "code",
   "execution_count": 93,
   "metadata": {},
   "outputs": [
    {
     "name": "stdout",
     "output_type": "stream",
     "text": [
      "P(x1 = med) = 432/1728\n",
      "P(x1 = med) = 0.25\n"
     ]
    }
   ],
   "source": [
    "n1 = len(data[data['x1'] == 'med'])\n",
    "n_omega_1 = len(data)\n",
    "p1 = n1/n_omega_1\n",
    "\n",
    "print(f\"P(x1 = med) = {n1}/{n_omega_1}\")\n",
    "print(f\"P(x1 = med) = {p1}\")"
   ]
  },
  {
   "cell_type": "code",
   "execution_count": 94,
   "metadata": {},
   "outputs": [
    {
     "name": "stdout",
     "output_type": "stream",
     "text": [
      "P(x2 = low) = 432/1728\n",
      "P(x2 = low) = 0.25\n"
     ]
    }
   ],
   "source": [
    "n2 = len(data[data['x2'] == 'low'])\n",
    "n_omega_2 = len(data)\n",
    "p2 = n2/n_omega_2\n",
    "\n",
    "print(f\"P(x2 = low) = {n2}/{n_omega_2}\")\n",
    "print(f\"P(x2 = low) = {p2}\")"
   ]
  },
  {
   "cell_type": "markdown",
   "metadata": {},
   "source": [
    "\n",
    "### b) P(x6=high|x3=2) e P(x2=low|x4=4)\n"
   ]
  },
  {
   "cell_type": "markdown",
   "metadata": {},
   "source": [
    "O calculo da probabilidade condicional, ou seja, quando há uma informação a priori, usa o mesmo princípio da probabilidade regular. A distinção é feita no espaço amostral, pois já se presume uma condição $A$. Dessa forma, o espaço amostral se reduz de $\\Omega$ para $A$, ou seja, o número total de possibilidades agora é o número de amostras com o atributo A. O evento desejado é aquele em que $A$ e $x$ ocorrem simultaneamente:\n",
    "\n",
    "$$ P(x | A) = \\frac{N(x \\cap A)}{N(A)}$$"
   ]
  },
  {
   "cell_type": "code",
   "execution_count": 95,
   "metadata": {},
   "outputs": [
    {
     "name": "stdout",
     "output_type": "stream",
     "text": [
      "P(x6 = high | x3 = 2) = 144/432\n",
      "P(x6 = high | x3 = 2) = 0.3333333333333333\n"
     ]
    }
   ],
   "source": [
    "n3 = len(data[(data['x6'] == 'high') & (data['x3'] == '2')])\n",
    "n_omega_3 = len(data[data['x3'] == '2'])\n",
    "p3 = n3/n_omega_3\n",
    "\n",
    "print(f\"P(x6 = high | x3 = 2) = {n3}/{n_omega_3}\")\n",
    "print(f\"P(x6 = high | x3 = 2) = {p3}\")"
   ]
  },
  {
   "cell_type": "code",
   "execution_count": 96,
   "metadata": {},
   "outputs": [
    {
     "name": "stdout",
     "output_type": "stream",
     "text": [
      "P(x2 = low | x4 = 4) = 144/576\n",
      "P(x2 = low | x4 = 4) = 0.25\n"
     ]
    }
   ],
   "source": [
    "n4 = len(data[(data['x2'] == 'low') & (data['x4'] == '4')])\n",
    "n_omega_4 = len(data[data['x4'] == '4'])\n",
    "p4 = n4/n_omega_4\n",
    "\n",
    "print(f\"P(x2 = low | x4 = 4) = {n4}/{n_omega_4}\")\n",
    "print(f\"P(x2 = low | x4 = 4) = {p4}\")"
   ]
  },
  {
   "cell_type": "markdown",
   "metadata": {},
   "source": [
    "### c) P(x1=low|x2=low,X5=small) e P(x4=4|x1=med,X3=2)\n"
   ]
  },
  {
   "cell_type": "markdown",
   "metadata": {},
   "source": [
    "Aplicamos o mesmo princípio da letra b). Ao invés de apenas uma condição a priori, agora temos duas. Basta reduzir o espaço amostral da forma apropriada, considerando ambas as condições:"
   ]
  },
  {
   "cell_type": "code",
   "execution_count": 97,
   "metadata": {},
   "outputs": [
    {
     "name": "stdout",
     "output_type": "stream",
     "text": [
      "P(x1 = low | x2 = low, X5 = small) = 36/144\n",
      "P(x1 = low | x2 = low, X5 = small) = 0.25\n"
     ]
    }
   ],
   "source": [
    "n5 = len(data[(data['x1'] == 'low') & (data['x2'] == 'low') & (data['x5'] == 'small')])\n",
    "n_omega_5 = len(data[(data['x2'] == 'low') & (data['x5'] == 'small')])\n",
    "p5 = n5/n_omega_5\n",
    "\n",
    "print(f\"P(x1 = low | x2 = low, X5 = small) = {n5}/{n_omega_5}\")\n",
    "print(f\"P(x1 = low | x2 = low, X5 = small) = {p5}\")"
   ]
  },
  {
   "cell_type": "code",
   "execution_count": 98,
   "metadata": {},
   "outputs": [
    {
     "name": "stdout",
     "output_type": "stream",
     "text": [
      "P(x4 = 4 | x1 = med, X3 = 2) = 36/108\n",
      "P(x4 = 4 | x1 = med, X3 = 2) = 0.3333333333333333\n"
     ]
    }
   ],
   "source": [
    "n6 = len(data[(data['x4'] == '4') & (data['x1'] == 'med') & (data['x3'] == '2')])\n",
    "n_omega_6 = len(data[(data['x1'] == 'med') & (data['x3'] == '2')])\n",
    "p6 = n6/n_omega_6\n",
    "\n",
    "print(f\"P(x4 = 4 | x1 = med, X3 = 2) = {n6}/{n_omega_6}\")\n",
    "print(f\"P(x4 = 4 | x1 = med, X3 = 2) = {p6}\")"
   ]
  },
  {
   "cell_type": "markdown",
   "metadata": {},
   "source": [
    "### d) P(x2= vhigh,X3=2|X4=2) e P(x3=4,x5=med|x1=med)"
   ]
  },
  {
   "cell_type": "markdown",
   "metadata": {},
   "source": [
    "Dessa vez, é colocada apenas uma condição a priori, porém dois eventos. Novamente, basta que ajustemos o espaço amostral (denominado) de forma apropriada, englobando todos os possíveis eventos a priori, e consideremos o número de eventos desejado (numerador) como a interseção de todos os eventos:"
   ]
  },
  {
   "cell_type": "code",
   "execution_count": 99,
   "metadata": {},
   "outputs": [
    {
     "name": "stdout",
     "output_type": "stream",
     "text": [
      "P(x2 = vhigh | x3 = 2, X4 = 2) = 36/576\n",
      "P(x2 = vhigh | x3 = 2, X4 = 2) = 0.0625\n"
     ]
    }
   ],
   "source": [
    "n7 = len(data[(data['x2'] == 'vhigh') & (data['x3'] == '2') & (data['x4'] == '2')])\n",
    "n_omega_7 = len(data[data['x4'] == '2'])\n",
    "p7 = n7/n_omega_7\n",
    "\n",
    "print(f\"P(x2 = vhigh | x3 = 2, X4 = 2) = {n7}/{n_omega_7}\")\n",
    "print(f\"P(x2 = vhigh | x3 = 2, X4 = 2) = {p7}\")"
   ]
  },
  {
   "cell_type": "code",
   "execution_count": 100,
   "metadata": {},
   "outputs": [
    {
     "name": "stdout",
     "output_type": "stream",
     "text": [
      "P(x3 = 4, x5 = med | x1 = med) = 36/432\n",
      "P(x3 = 4, x5 = med | x1 = med) = 0.08333333333333333\n"
     ]
    }
   ],
   "source": [
    "n8 = len(data[(data['x3'] == '4') & (data['x5'] == 'med') & (data['x1'] == 'med')])\n",
    "n_omega_8 = len(data[data['x1'] == 'med'])\n",
    "p8 = n8/n_omega_8\n",
    "\n",
    "print(f\"P(x3 = 4, x5 = med | x1 = med) = {n8}/{n_omega_8}\")\n",
    "print(f\"P(x3 = 4, x5 = med | x1 = med) = {p8}\")"
   ]
  },
  {
   "cell_type": "markdown",
   "metadata": {},
   "source": []
  },
  {
   "cell_type": "markdown",
   "metadata": {},
   "source": [
    "## 5) Encontre as regras de associação entre os itens abaixo usando o algoritmo Apriori, considerando confiança ≥ 0,9 e suporte ≥ 0,5. Não precisa implementar o método, mas mostre os passos de desenvolvimento para chegar nos resultados. Considere que 1 significa que o item está na “cesta de compras” e 0 que ele não está na cesta."
   ]
  },
  {
   "attachments": {
    "image.png": {
     "image/png": "[encoded data removed]"
    }
   },
   "cell_type": "markdown",
   "metadata": {},
   "source": [
    "![image.png](attachment:image.png)"
   ]
  },
  {
   "cell_type": "markdown",
   "metadata": {},
   "source": [
    "De acordo com a lista de transações, definimos:\n",
    "\n",
    "- 1 Cerveja; \n",
    "- 2 Carne;\n",
    "- 3 Carvão;\n",
    "- 4 Pão;\n",
    "- 5 Leite;\n",
    "- 6 Manteiga;\n",
    "\n",
    "De acordo com essa definição, temos a lista de transações:"
   ]
  },
  {
   "cell_type": "markdown",
   "metadata": {},
   "source": [
    "- t0 = [1,2,3]\n",
    "- t1 = [1,2,3]\n",
    "- t2 = [1,2,5]\n",
    "- t3 = [1,2,3,4,5,6]\n",
    "- t4 = [1,4,5]\n",
    "- t5 = [2,4,5]\n",
    "- t6 = [4,5] \n",
    "- t7 = [1,2,3]\n",
    "- t8 = [4,5,6]\n",
    "- t9 = [1,2,3]"
   ]
  },
  {
   "cell_type": "markdown",
   "metadata": {},
   "source": [
    "Os requerimentos são confiança $\\ge 0,9$ e suporte $\\ge 0,5$.\n",
    "\n",
    "Sendo $n$ o número de transações que atende à condição entre parênteses, temos que:\n",
    "\n",
    "- O grau de suporte de $A \\to B$ é calculado pela equação:\n",
    "\n",
    "$$sup(A \\to B) = \\frac{n(A \\cup B)}{n(total)}$$\n",
    "\n",
    "- O grau de confiança de $A \\to B$ é calculado pela equação:\n",
    "\n",
    "$$conf(A \\to B) = \\frac{n(A \\cup B)}{n(A)}$$\n",
    "\n",
    "\n",
    "\n",
    "Para 10 transações, o requerimento de confiança exige que o número mínimo de aparições de um conjunto seja de 5 vezes. Os conjuntos que aparecem 5 ou mais vezes são, para cada número de elementos (k):"
   ]
  },
  {
   "cell_type": "markdown",
   "metadata": {},
   "source": [
    "### k = 1:\n",
    "\n",
    "- [1],\n",
    "- [2],\n",
    "- [3],\n",
    "- [4],\n",
    "- [5]\n",
    "\n",
    "\n",
    "### k = 2:\n",
    "\n",
    "- [1,2],\n",
    "- [1,3],\n",
    "- [2,3],\n",
    "- [4,5]\n",
    "\n",
    "\n",
    "### k = 3:\n",
    "\n",
    "- [1,2,3]\n"
   ]
  },
  {
   "cell_type": "markdown",
   "metadata": {},
   "source": [
    "Feito isso, calculamos o grau de confiança de todas as associações, e selecionamos as iguais ou superiores a 0,9.\n",
    "\n",
    "### k = 2\n",
    "\n",
    "- [1] => [2] = 6/7 = 0,857\n",
    "\n",
    "- [2] => [1] = 6/7 = 0,857\n",
    "\n",
    "- [1] => [3] = 5/7 = 0,714\n",
    "\n",
    "- [3] => [1] = 5/5 = 1,000\n",
    "\n",
    "- [1] => [4] = 2/7 = 0,286\n",
    "\n",
    "- [4] => [1] = 2/5 = 0,400\n",
    "\n",
    "- [1] => [5] = 3/7 = 0,429\n",
    "\n",
    "- [5] => [1] = 3/6 = 0,500\n",
    "\n",
    "- [2] => [3] = 5/7 = 0,714\n",
    "\n",
    "- [3] => [2] = 5/5 = 1,000\n",
    "\n",
    "- [2] => [4] = 2/7 = 0,286\n",
    "\n",
    "- [4] => [2] = 2/5 = 0,400\n",
    "\n",
    "- [2] => [5] = 3/7 = 0,429\n",
    "\n",
    "- [5] => [2] = 3/6 = 0,500\n",
    "\n",
    "- [3] => [4] = 1/5 = 0,200\n",
    "\n",
    "- [4] => [3] = 1/5 = 0,200\n",
    "\n",
    "- [3] => [5] = 1/5 = 0,200\n",
    "\n",
    "- [5] => [3] = 1/6 = 0,167\n",
    "\n",
    "- [4] => [5] = 5/5 = 1,000\n",
    "\n",
    "- [5] => [4] = 5/6 = 0,833\n",
    "\n",
    "\n",
    "\n",
    "### k = 3\n",
    "\n",
    "- [1]   => [2,3] = 5/7 = 0,714\n",
    "- [1]   => [4,5] = 2/7 = 0,286\n",
    "- [2,3] => [1] = 5/5 = 1,000\n",
    "- [4,5] => [1] = 2/5 = 0,400\n",
    "\n",
    "\n",
    "- [2] => [1,3] = 5/7 = 0,714\n",
    "- [2] => [4,5] = 2/7 = 0,286\n",
    "- [1,3] => [2] = 5/5 = 1,000\n",
    "- [4,5] => [2] = 2/5 = 0,400\n",
    "- [3] => [1,2] = 4/5 = 0,800\n",
    "- [3] => [4,5] = 1/5 = 0,200\n",
    "- [1,2] => [3] = 4/6 = 0,667\n",
    "- [4,5] => [3] = 1/5 = 0,200\n",
    "- [4] => [1,2] = 1/5 = 0,200\n",
    "- [4] => [1,3] = 1/5 = 0,200\n",
    "- [4] => [2,3] = 1/5 = 0,200\n",
    "- [1,2] => [4] = 1/6 = 0,167\n",
    "- [1,3] => [4] = 1/5 = 0,200\n",
    "- [2,3] => [4] = 1/5 = 0,200\n",
    "- [5] => [1,2] = 1/6 = 0,167\n",
    "- [5] => [1,3] = 1/6 = 0,167\n",
    "- [5] => [2,3] = 1/6 = 0,167\n",
    "- [1,2] => [5] = 1/6 = 0,167\n",
    "- [1,3] => [5] = 1/5 = 0,200\n",
    "- [2,3] => [5] = 1/5 = 0,200\n",
    "\n",
    "### k = 4\n",
    "\n",
    "- [4] => [1,2,3] = 1/5 = 0,200\n",
    "- [1,2,3] => [4] = 1/5 = 0,200\n",
    "\n",
    "- [5] => [1,2,3] = 1/6 = 0,167\n",
    "- [1,2,3] => [5] = 1/5 = 0,200\n",
    "\n",
    "### k = 5\n",
    "\n",
    "- [1,2,3] => [4,5] = 1/5 = 0,200\n",
    "\n",
    "- [4,5] => [1,2,3] = 1/5 = 0,200"
   ]
  },
  {
   "cell_type": "markdown",
   "metadata": {},
   "source": [
    "### As regras de associação escolhidas, que atendem a condição de grau de confiança igual ou superior a 0,9 são:\n",
    "\n",
    "- [3] => [1]    (conf = 1,000)\n",
    "- [3] => [2]    (conf = 1,000)\n",
    "- [4] => [5]    (conf = 1,000)\n",
    "- [2,3] => [1]  (conf = 1,000)\n",
    "- [1,3] => [2]  (conf = 1,000)"
   ]
  },
  {
   "cell_type": "markdown",
   "metadata": {},
   "source": [
    "# Questões teóricas"
   ]
  },
  {
   "cell_type": "markdown",
   "metadata": {},
   "source": [
    "## 1) Explique o porquê do classificador Naive Bayes ser robusto a um atributo com valor constante ao longo de todas as amostras de um conjunto de dados."
   ]
  },
  {
   "cell_type": "markdown",
   "metadata": {},
   "source": [
    "O classificador Naive Bayes parte do pressuposto de que os valores dos atributos de cada amostra são independentes entre si, ou seja, que não há correlação entre um atributo x1 e outro atributo qualquer da mesma amostra, x2.\n",
    "\n",
    "A partir dessa premissa, ele realiza a classificação da seguinte forma:\n",
    "- Calcula-se a probabilidade de, dado os atributos de uma amostra, aquela amostra pertencer a uma classe determinada\n",
    "- Repete-se o processo, para cada uma das classes possíveis\n",
    "- A classe com maior probabilidade, dado o conjunto de atributos de uma amostra, é escolhida para a classificação.\n",
    "\n",
    "A probabilidade de uma amostra pertencer à cada classe é calculada a partir da frequência e cada classificação dado os atributos das amostras do grupo de treinamento. \n",
    "\n",
    "Um atributo cujo valor é o mesmo para todas as amostras de treinamento não afeta de forma tão significativa o método, pois a probabilidade se torna a mesma para todas as classes. O método não irá tender a nenhuma classe em particular por consequência desse atributo."
   ]
  },
  {
   "cell_type": "markdown",
   "metadata": {},
   "source": [
    "## 2) Explique com suas palavras como funciona o algoritmo DBSCAN para agrupar as amostras."
   ]
  },
  {
   "cell_type": "markdown",
   "metadata": {},
   "source": [
    "O Algoritmo DBSCAN requer dois hiperparâmetros: $Eps$ e $MinPts$.\n",
    "\n",
    "$Eps$ representa o raio de agrupamento, e $MinPts$ representa um número mínimo de pontos.\n",
    "\n",
    "Munido desses dois valores, o algoritmo irá analisar ponto por ponto. Para um determinado ponto $P_i$, o algoritmo irá verificar quantos outros pontos existem dentro do raio $Eps$ de distância desse ponto. Se o número de pontos for maior ou igual a $MinPts$, o ponto $P_i$ é denominado como um ponto de núcleo. O processo é repetido até que todos os pontos tenham sido avaliados.\n",
    "\n",
    "Quando dois pontos de núcleo estão dentro do raio de agrupamento um do outro, eles formam um grupo, ou cluster. Pontos dentro do raio de agrupamento de pontos de núcleo mas que não são eles mesmos pontos de núcleo são denominados pontos de borda. Pontos fora do raio de borda de qualquer ponto de núcleo são outliers, e não pertencem a agrupamentos.\n",
    "\n",
    "Partindo dessas definições, o algoritmo constrói grupos (clusters), e cada grupamento define uma classe distinta."
   ]
  }
 ],
 "metadata": {
  "kernelspec": {
   "display_name": ".venv",
   "language": "python",
   "name": "python3"
  },
  "language_info": {
   "codemirror_mode": {
    "name": "ipython",
    "version": 3
   },
   "file_extension": ".py",
   "mimetype": "text/x-python",
   "name": "python",
   "nbconvert_exporter": "python",
   "pygments_lexer": "ipython3",
   "version": "3.10.12"
  },
  "orig_nbformat": 4
 },
 "nbformat": 4,
 "nbformat_minor": 2
}
