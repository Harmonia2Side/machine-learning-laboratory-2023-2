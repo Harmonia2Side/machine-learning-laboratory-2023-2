{
 "cells": [
  {
   "cell_type": "markdown",
   "metadata": {},
   "source": [
    "### Bibliotecas"
   ]
  },
  {
   "cell_type": "code",
   "execution_count": 81,
   "metadata": {},
   "outputs": [
    {
     "name": "stdout",
     "output_type": "stream",
     "text": [
      "Requirement already satisfied: numpy in /home/harmonia/codes/machine-learning-laboratory-2023-2/.venv/lib/python3.10/site-packages (1.25.2)\n",
      "Requirement already satisfied: matplotlib in /home/harmonia/codes/machine-learning-laboratory-2023-2/.venv/lib/python3.10/site-packages (3.7.3)\n",
      "Requirement already satisfied: pandas in /home/harmonia/codes/machine-learning-laboratory-2023-2/.venv/lib/python3.10/site-packages (2.1.0)\n",
      "Requirement already satisfied: seaborn in /home/harmonia/codes/machine-learning-laboratory-2023-2/.venv/lib/python3.10/site-packages (0.12.2)\n",
      "Requirement already satisfied: contourpy>=1.0.1 in /home/harmonia/codes/machine-learning-laboratory-2023-2/.venv/lib/python3.10/site-packages (from matplotlib) (1.1.0)\n",
      "Requirement already satisfied: cycler>=0.10 in /home/harmonia/codes/machine-learning-laboratory-2023-2/.venv/lib/python3.10/site-packages (from matplotlib) (0.11.0)\n",
      "Requirement already satisfied: fonttools>=4.22.0 in /home/harmonia/codes/machine-learning-laboratory-2023-2/.venv/lib/python3.10/site-packages (from matplotlib) (4.42.1)\n",
      "Requirement already satisfied: kiwisolver>=1.0.1 in /home/harmonia/codes/machine-learning-laboratory-2023-2/.venv/lib/python3.10/site-packages (from matplotlib) (1.4.5)\n",
      "Requirement already satisfied: packaging>=20.0 in /home/harmonia/codes/machine-learning-laboratory-2023-2/.venv/lib/python3.10/site-packages (from matplotlib) (23.1)\n",
      "Requirement already satisfied: pillow>=6.2.0 in /home/harmonia/codes/machine-learning-laboratory-2023-2/.venv/lib/python3.10/site-packages (from matplotlib) (10.0.0)\n",
      "Requirement already satisfied: pyparsing>=2.3.1 in /home/harmonia/codes/machine-learning-laboratory-2023-2/.venv/lib/python3.10/site-packages (from matplotlib) (3.1.1)\n",
      "Requirement already satisfied: python-dateutil>=2.7 in /home/harmonia/codes/machine-learning-laboratory-2023-2/.venv/lib/python3.10/site-packages (from matplotlib) (2.8.2)\n",
      "Requirement already satisfied: pytz>=2020.1 in /home/harmonia/codes/machine-learning-laboratory-2023-2/.venv/lib/python3.10/site-packages (from pandas) (2023.3.post1)\n",
      "Requirement already satisfied: tzdata>=2022.1 in /home/harmonia/codes/machine-learning-laboratory-2023-2/.venv/lib/python3.10/site-packages (from pandas) (2023.3)\n",
      "Requirement already satisfied: six>=1.5 in /home/harmonia/codes/machine-learning-laboratory-2023-2/.venv/lib/python3.10/site-packages (from python-dateutil>=2.7->matplotlib) (1.16.0)\n",
      "\n",
      "\u001b[1m[\u001b[0m\u001b[34;49mnotice\u001b[0m\u001b[1;39;49m]\u001b[0m\u001b[39;49m A new release of pip is available: \u001b[0m\u001b[31;49m23.2.1\u001b[0m\u001b[39;49m -> \u001b[0m\u001b[32;49m23.3\u001b[0m\n",
      "\u001b[1m[\u001b[0m\u001b[34;49mnotice\u001b[0m\u001b[1;39;49m]\u001b[0m\u001b[39;49m To update, run: \u001b[0m\u001b[32;49mpip install --upgrade pip\u001b[0m\n"
     ]
    }
   ],
   "source": [
    "# Instalação manual de bibliotecas\n",
    "!pip install numpy matplotlib pandas seaborn\n",
    "# Bibliotecas\n",
    "import numpy as np\n",
    "import pandas as pd\n",
    "import matplotlib.pyplot as plt\n",
    "import seaborn as sb\n",
    "\n",
    "\n",
    "# WARNING: N entendi o que baixar na 3C TODO ver isso depois\n",
    "# CUDA. Lindo. Isso vai ser divertido: https://github.com/CannyLab/tsne-cuda"
   ]
  },
  {
   "cell_type": "markdown",
   "metadata": {},
   "source": [
    "# 1) Dada a base de dados Haberman's Survival (disponibilizada em http://archive.ics.uci.edu/dataset/43/haberman+s+survival), obtenha:\n",
    "\n",
    "\n",
    "## d) O histograma com 8 bins de cada um dos atributos para cada uma das classes (gere gráficos dos histogramas com cores diferentes para cada classe);\n",
    "## e) Gere um gráfico 3D das amostras, identificando cada classe. Analise o gráfico e informe se a tarefa de classificação é fácil ou difícil e justifique a sua resposta."
   ]
  },
  {
   "cell_type": "markdown",
   "metadata": {},
   "source": [
    "Leitura dos dados"
   ]
  },
  {
   "cell_type": "code",
   "execution_count": 82,
   "metadata": {},
   "outputs": [
    {
     "data": {
      "text/html": [
       "<div>\n",
       "<style scoped>\n",
       "    .dataframe tbody tr th:only-of-type {\n",
       "        vertical-align: middle;\n",
       "    }\n",
       "\n",
       "    .dataframe tbody tr th {\n",
       "        vertical-align: top;\n",
       "    }\n",
       "\n",
       "    .dataframe thead th {\n",
       "        text-align: right;\n",
       "    }\n",
       "</style>\n",
       "<table border=\"1\" class=\"dataframe\">\n",
       "  <thead>\n",
       "    <tr style=\"text-align: right;\">\n",
       "      <th></th>\n",
       "      <th>age</th>\n",
       "      <th>op_year</th>\n",
       "      <th>pos_nodes</th>\n",
       "      <th>survived</th>\n",
       "    </tr>\n",
       "  </thead>\n",
       "  <tbody>\n",
       "    <tr>\n",
       "      <th>0</th>\n",
       "      <td>30</td>\n",
       "      <td>64</td>\n",
       "      <td>1</td>\n",
       "      <td>1</td>\n",
       "    </tr>\n",
       "    <tr>\n",
       "      <th>1</th>\n",
       "      <td>30</td>\n",
       "      <td>62</td>\n",
       "      <td>3</td>\n",
       "      <td>1</td>\n",
       "    </tr>\n",
       "    <tr>\n",
       "      <th>2</th>\n",
       "      <td>30</td>\n",
       "      <td>65</td>\n",
       "      <td>0</td>\n",
       "      <td>1</td>\n",
       "    </tr>\n",
       "    <tr>\n",
       "      <th>3</th>\n",
       "      <td>31</td>\n",
       "      <td>59</td>\n",
       "      <td>2</td>\n",
       "      <td>1</td>\n",
       "    </tr>\n",
       "    <tr>\n",
       "      <th>4</th>\n",
       "      <td>31</td>\n",
       "      <td>65</td>\n",
       "      <td>4</td>\n",
       "      <td>1</td>\n",
       "    </tr>\n",
       "  </tbody>\n",
       "</table>\n",
       "</div>"
      ],
      "text/plain": [
       "   age  op_year  pos_nodes  survived\n",
       "0   30       64          1         1\n",
       "1   30       62          3         1\n",
       "2   30       65          0         1\n",
       "3   31       59          2         1\n",
       "4   31       65          4         1"
      ]
     },
     "execution_count": 82,
     "metadata": {},
     "output_type": "execute_result"
    }
   ],
   "source": [
    "\n",
    "#Faz a leitura do arquivo com os dados\n",
    "#header = None --> o arquivo não tem cabeçalho\n",
    "#names --> coloca nomes para cada coluna\n",
    "data = pd.read_csv('data/haberman.data', header = None, names = ['age', 'op_year', 'pos_nodes', 'survived'])\n",
    "data.head()\n",
    "# data.describe()"
   ]
  },
  {
   "cell_type": "markdown",
   "metadata": {},
   "source": [
    "## a) A média e variância de cada um dos atributos;"
   ]
  },
  {
   "cell_type": "code",
   "execution_count": 83,
   "metadata": {},
   "outputs": [
    {
     "name": "stdout",
     "output_type": "stream",
     "text": [
      "[0 1 2]\n"
     ]
    }
   ],
   "source": [
    "# seleciona apenas atributos de entrada\n",
    "faixa = np.arange(0,3)\n",
    "print(faixa)"
   ]
  },
  {
   "cell_type": "code",
   "execution_count": 84,
   "metadata": {},
   "outputs": [
    {
     "name": "stdout",
     "output_type": "stream",
     "text": [
      "Média\n",
      "age          52.457516\n",
      "op_year      62.852941\n",
      "pos_nodes     4.026144\n",
      "dtype: float64\n",
      "\n",
      "Variância\n",
      "age          116.714583\n",
      "op_year       10.558631\n",
      "pos_nodes     51.691118\n",
      "dtype: float64\n"
     ]
    }
   ],
   "source": [
    "# Imprime média e variância de cada atributo\n",
    "print('Média')\n",
    "print(data.iloc[:,faixa].mean())\n",
    "\n",
    "print('\\r\\nVariância')\n",
    "print(data.iloc[:,faixa].var())"
   ]
  },
  {
   "cell_type": "markdown",
   "metadata": {},
   "source": [
    "## b) A média e variância de cada um dos atributos para cada uma das classes;"
   ]
  },
  {
   "cell_type": "code",
   "execution_count": 85,
   "metadata": {},
   "outputs": [
    {
     "name": "stdout",
     "output_type": "stream",
     "text": [
      "[1 2]\n",
      "Média 'survived' == 1\n",
      "\n",
      "age          52.017778\n",
      "op_year      62.862222\n",
      "pos_nodes     2.791111\n",
      "dtype: float64\n",
      "\n",
      "\n",
      "Variância 'survived' == 1\n",
      "\n",
      "age          121.267540\n",
      "op_year       10.387183\n",
      "pos_nodes     34.460635\n",
      "dtype: float64\n",
      "\n",
      "\n",
      "\n",
      "Média 'survived' == 2\n",
      "\n",
      "age          53.679012\n",
      "op_year      62.827160\n",
      "pos_nodes     7.456790\n",
      "dtype: float64\n",
      "\n",
      "\n",
      "Variância 'survived' == 2\n",
      "\n",
      "age          103.370679\n",
      "op_year       11.169753\n",
      "pos_nodes     84.376235\n",
      "dtype: float64\n",
      "\n",
      "\n",
      "\n"
     ]
    }
   ],
   "source": [
    "# Como pegar atributos filtrados por classe\n",
    "# Extrai todos os valores únicos e os coloca num vetor\n",
    "classes = data['survived'].unique()\n",
    "# 1 = the patient survived 5 years or longer\n",
    "# 2 = the patient died within 5 year\n",
    "print(classes)\n",
    "\n",
    "for i in range(0,classes.size):\n",
    "    data_select = data[data['survived'] == classes[i]]\n",
    "    print(f\"Média 'survived' == {classes[i]}\\n\")\n",
    "    print(data_select.iloc[:,faixa].mean())\n",
    "    print(\"\\n\")\n",
    "    print(f\"Variância 'survived' == {classes[i]}\\n\")\n",
    "    print(data_select.iloc[:,faixa].var())\n",
    "    print(\"\\n\\n\")\n"
   ]
  },
  {
   "cell_type": "markdown",
   "metadata": {},
   "source": [
    "## c) A matriz de coeficientes de correlação;"
   ]
  },
  {
   "cell_type": "code",
   "execution_count": 86,
   "metadata": {},
   "outputs": [
    {
     "name": "stdout",
     "output_type": "stream",
     "text": [
      " [1.11137003 0.89217623 0.99645374]\n",
      "\n",
      "[[ 0.70131829  0.71275488  0.01153822]\n",
      " [ 0.57789155 -0.57794675  0.57621082]\n",
      " [-0.41736555  0.39743934  0.81721965]]\n"
     ]
    }
   ],
   "source": [
    "#Usamos numpy para realizar os cálculos\n",
    "eigValues, eigVectors = np.linalg.eig(data.iloc[:,faixa].corr())\n",
    "print(f\" {eigValues}\")\n",
    "print()\n",
    "print(eigVectors)\n"
   ]
  },
  {
   "cell_type": "markdown",
   "metadata": {},
   "source": [
    "## d) O histograma com 8 bins de cada um dos atributos para cada uma das classes (gere gráficos dos histogramas com cores diferentes para cada classe)"
   ]
  },
  {
   "cell_type": "code",
   "execution_count": 92,
   "metadata": {},
   "outputs": [
    {
     "name": "stdout",
     "output_type": "stream",
     "text": [
      "classes[0] => survived\n",
      "classes[1] => not survived\n"
     ]
    },
    {
     "data": {
      "text/plain": [
       "<Axes: title={'center': 'Histograma de Idade de Pacientes'}, xlabel='Idade', ylabel='Frequency'>"
      ]
     },
     "execution_count": 92,
     "metadata": {},
     "output_type": "execute_result"
    },
    {
     "data": {
      "image/png": "[encoded data removed]",
      "text/plain": [
       "<Figure size 640x480 with 1 Axes>"
      ]
     },
     "metadata": {},
     "output_type": "display_data"
    }
   ],
   "source": [
    "# Títulos e labels de figura\n",
    "\n",
    "figlabels = {\n",
    "    \"xlabel\":\"Idade\", \n",
    "    \"title\":\"Histograma de Idade de Pacientes\"\n",
    "}\n",
    "# Imprime os histogramas\n",
    "print('classes[0] => survived')\n",
    "print('classes[1] => not survived')\n",
    "\n",
    "# -- AGE --\n",
    "# slice = pd.DataFrame()\n",
    "# slice['survived'] = data[data['survived'] == classes[0]].iloc[:,0]\n",
    "# slice['not-survived'] = data[data['survived'] == classes[1]].iloc[:,0]\n",
    "\n",
    "# slice.plot.hist(bins=8, alpha=0.5, **figlabels)\n",
    "\n",
    "# # survived age\n",
    "data[data['survived'] == classes[0]].iloc[:,0].plot.hist(bins=8, alpha=0.5)\n",
    "# # not survived age\n",
    "data[data['survived'] == classes[1]].iloc[:,0].plot.hist(bins=8, alpha=0.5, **figlabels)"
   ]
  },
  {
   "cell_type": "code",
   "execution_count": null,
   "metadata": {},
   "outputs": [],
   "source": [
    "\n",
    "# -- OP_YEAR --\n"
   ]
  }
 ],
 "metadata": {
  "kernelspec": {
   "display_name": ".venv",
   "language": "python",
   "name": "python3"
  },
  "language_info": {
   "codemirror_mode": {
    "name": "ipython",
    "version": 3
   },
   "file_extension": ".py",
   "mimetype": "text/x-python",
   "name": "python",
   "nbconvert_exporter": "python",
   "pygments_lexer": "ipython3",
   "version": "3.10.13"
  },
  "orig_nbformat": 4
 },
 "nbformat": 4,
 "nbformat_minor": 2
}
