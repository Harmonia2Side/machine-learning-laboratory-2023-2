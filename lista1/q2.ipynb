{
 "cells": [
  {
   "cell_type": "markdown",
   "metadata": {},
   "source": [
    "### Bibliotecas"
   ]
  },
  {
   "cell_type": "code",
   "execution_count": 2,
   "metadata": {},
   "outputs": [
    {
     "name": "stdout",
     "output_type": "stream",
     "text": [
      "Requirement already satisfied: numpy in /home/harmonia/codes/machine-learning-laboratory-2023-2/.venv/lib/python3.10/site-packages (1.26.1)\n",
      "Requirement already satisfied: matplotlib in /home/harmonia/codes/machine-learning-laboratory-2023-2/.venv/lib/python3.10/site-packages (3.8.1)\n",
      "Requirement already satisfied: pandas in /home/harmonia/codes/machine-learning-laboratory-2023-2/.venv/lib/python3.10/site-packages (2.1.2)\n",
      "Requirement already satisfied: seaborn in /home/harmonia/codes/machine-learning-laboratory-2023-2/.venv/lib/python3.10/site-packages (0.13.0)\n",
      "Requirement already satisfied: contourpy>=1.0.1 in /home/harmonia/codes/machine-learning-laboratory-2023-2/.venv/lib/python3.10/site-packages (from matplotlib) (1.2.0)\n",
      "Requirement already satisfied: cycler>=0.10 in /home/harmonia/codes/machine-learning-laboratory-2023-2/.venv/lib/python3.10/site-packages (from matplotlib) (0.12.1)\n",
      "Requirement already satisfied: fonttools>=4.22.0 in /home/harmonia/codes/machine-learning-laboratory-2023-2/.venv/lib/python3.10/site-packages (from matplotlib) (4.44.0)\n",
      "Requirement already satisfied: kiwisolver>=1.3.1 in /home/harmonia/codes/machine-learning-laboratory-2023-2/.venv/lib/python3.10/site-packages (from matplotlib) (1.4.5)\n",
      "Requirement already satisfied: packaging>=20.0 in /home/harmonia/codes/machine-learning-laboratory-2023-2/.venv/lib/python3.10/site-packages (from matplotlib) (23.2)\n",
      "Requirement already satisfied: pillow>=8 in /home/harmonia/codes/machine-learning-laboratory-2023-2/.venv/lib/python3.10/site-packages (from matplotlib) (10.1.0)\n",
      "Requirement already satisfied: pyparsing>=2.3.1 in /home/harmonia/codes/machine-learning-laboratory-2023-2/.venv/lib/python3.10/site-packages (from matplotlib) (3.1.1)\n",
      "Requirement already satisfied: python-dateutil>=2.7 in /home/harmonia/codes/machine-learning-laboratory-2023-2/.venv/lib/python3.10/site-packages (from matplotlib) (2.8.2)\n",
      "Requirement already satisfied: pytz>=2020.1 in /home/harmonia/codes/machine-learning-laboratory-2023-2/.venv/lib/python3.10/site-packages (from pandas) (2023.3.post1)\n",
      "Requirement already satisfied: tzdata>=2022.1 in /home/harmonia/codes/machine-learning-laboratory-2023-2/.venv/lib/python3.10/site-packages (from pandas) (2023.3)\n",
      "Requirement already satisfied: six>=1.5 in /home/harmonia/codes/machine-learning-laboratory-2023-2/.venv/lib/python3.10/site-packages (from python-dateutil>=2.7->matplotlib) (1.16.0)\n"
     ]
    }
   ],
   "source": [
    "# Instalação manual de bibliotecas\n",
    "!pip install numpy matplotlib pandas seaborn\n",
    "# Bibliotecas\n",
    "\n",
    "\n",
    "# import ml_utils as ml\n",
    "# %load_ext autoreload\n",
    "# %autoreload 2\n",
    "# %run -i ml_utils\n",
    "# %reload_ext autoreload\n",
    "\n",
    "import numpy as np\n",
    "import pandas as pd\n",
    "import matplotlib.pyplot as plt\n",
    "import seaborn as sb\n",
    "import math\n"
   ]
  },
  {
   "cell_type": "markdown",
   "metadata": {},
   "source": [
    "### Funções utilitárias"
   ]
  },
  {
   "cell_type": "code",
   "execution_count": 14,
   "metadata": {},
   "outputs": [],
   "source": [
    "def print_format(string, value):\n",
    "    print(f\"{string} =\\n{value}\")"
   ]
  },
  {
   "cell_type": "markdown",
   "metadata": {},
   "source": [
    "Leitura dos dados"
   ]
  },
  {
   "cell_type": "code",
   "execution_count": 4,
   "metadata": {},
   "outputs": [
    {
     "data": {
      "text/html": [
       "<div>\n",
       "<style scoped>\n",
       "    .dataframe tbody tr th:only-of-type {\n",
       "        vertical-align: middle;\n",
       "    }\n",
       "\n",
       "    .dataframe tbody tr th {\n",
       "        vertical-align: top;\n",
       "    }\n",
       "\n",
       "    .dataframe thead th {\n",
       "        text-align: right;\n",
       "    }\n",
       "</style>\n",
       "<table border=\"1\" class=\"dataframe\">\n",
       "  <thead>\n",
       "    <tr style=\"text-align: right;\">\n",
       "      <th></th>\n",
       "      <th>age</th>\n",
       "      <th>op_year</th>\n",
       "      <th>pos_nodes</th>\n",
       "      <th>survived</th>\n",
       "    </tr>\n",
       "  </thead>\n",
       "  <tbody>\n",
       "    <tr>\n",
       "      <th>0</th>\n",
       "      <td>30</td>\n",
       "      <td>64</td>\n",
       "      <td>1</td>\n",
       "      <td>1</td>\n",
       "    </tr>\n",
       "    <tr>\n",
       "      <th>1</th>\n",
       "      <td>30</td>\n",
       "      <td>62</td>\n",
       "      <td>3</td>\n",
       "      <td>1</td>\n",
       "    </tr>\n",
       "    <tr>\n",
       "      <th>2</th>\n",
       "      <td>30</td>\n",
       "      <td>65</td>\n",
       "      <td>0</td>\n",
       "      <td>1</td>\n",
       "    </tr>\n",
       "    <tr>\n",
       "      <th>3</th>\n",
       "      <td>31</td>\n",
       "      <td>59</td>\n",
       "      <td>2</td>\n",
       "      <td>1</td>\n",
       "    </tr>\n",
       "    <tr>\n",
       "      <th>4</th>\n",
       "      <td>31</td>\n",
       "      <td>65</td>\n",
       "      <td>4</td>\n",
       "      <td>1</td>\n",
       "    </tr>\n",
       "  </tbody>\n",
       "</table>\n",
       "</div>"
      ],
      "text/plain": [
       "   age  op_year  pos_nodes  survived\n",
       "0   30       64          1         1\n",
       "1   30       62          3         1\n",
       "2   30       65          0         1\n",
       "3   31       59          2         1\n",
       "4   31       65          4         1"
      ]
     },
     "execution_count": 4,
     "metadata": {},
     "output_type": "execute_result"
    }
   ],
   "source": [
    "\n",
    "#Faz a leitura do arquivo com os dados\n",
    "#header = None --> o arquivo não tem cabeçalho\n",
    "#names --> coloca nomes para cada coluna\n",
    "data = pd.read_csv('data/haberman.data', header = None, names = ['age', 'op_year', 'pos_nodes', 'survived'])\n",
    "data.head()\n",
    "# data.describe()"
   ]
  },
  {
   "cell_type": "markdown",
   "metadata": {},
   "source": [
    "# 2) Para a base de dados Car Evaluation, calcule a informação mútua entre os atributos de entrada (as 5 primeiras colunas) e o atributo de saída (a última coluna). Informe os resultados e comente a sua solução."
   ]
  },
  {
   "cell_type": "markdown",
   "metadata": {},
   "source": [
    "### Funções"
   ]
  },
  {
   "cell_type": "code",
   "execution_count": 13,
   "metadata": {},
   "outputs": [
    {
     "name": "stdout",
     "output_type": "stream",
     "text": [
      "1.0\n",
      "0.31127812445913294\n",
      "1.0\n",
      "0.34559202994421145\n"
     ]
    }
   ],
   "source": [
    "# Função que calcula probabilidade de um ou mais atributos dentro de um dataset\n",
    "#   data: dataset\n",
    "#   atribute: a lista de (um ou dois) atributos cuja probabilidade será calculada\n",
    "# retorna: um float correspondente à probabilidade requerida\n",
    "def probabilidade(data, atributes):\n",
    "    probability_vector = data.value_counts(subset=atributes, normalize=True)\n",
    "    return probability_vector\n",
    "\n",
    "# Função que calcula entropia de um ou mais atributos dentro de um dataset\n",
    "#   data: dataset\n",
    "#   atribute: a lista de (um ou mais) atributos cuja entropia será calculada\n",
    "# retorna: valor resultante do cálculo\n",
    "def entropy(data, atributes):\n",
    "    probability_vector = probabilidade(data, atributes)\n",
    "    sum_elements = probability_vector.apply(lambda x: -x*math.log2(x))\n",
    "    entropy_result = sum_elements.sum()\n",
    "    return entropy_result\n",
    "\n",
    "# Função que calcula informação mútua entre DOIS atributos dentro de um dataset\n",
    "#   data: dataset\n",
    "#   x: primeiro atributo\n",
    "#   y: segundo atributo\n",
    "# retorna: valor resultante do cálculo\n",
    "def mutual_information(data, two_attributes):\n",
    "    if len(two_attributes) != 2:\n",
    "        print(f\"FATAL ERROR: mutual_information -> len(two_attributes) = {len(two_attributes)}\\n You are probably trying to calculate mutual information of more than 2 variables simultaneously\\nTHIS IS NOT YET SUPPORTED\")\n",
    "    return entropy(data, two_attributes[0]) + entropy(data, two_attributes[1]) - entropy(data, two_attributes) \n",
    "\n",
    "def mutual_information_normalized(data, two_attributes):\n",
    "    not_normalized_value = mutual_information(data, two_attributes)\n",
    "    normalized_value = math.sqrt((not_normalized_value**2)/(entropy(data, two_attributes[0]) * entropy(data, two_attributes[1])))\n",
    "    return normalized_value\n",
    "    \n",
    "\n",
    "# #teste de sanidade das funções\n",
    "\n",
    "raw_data = [[0, 1, 1],\n",
    "            [1, 1, 0],\n",
    "            [0, 1, 1],\n",
    "            [1, 0, 0]]\n",
    "idx = ['x1', 'x2', 'x3']\n",
    "data_test = pd.DataFrame(data=raw_data, columns=idx)\n",
    "\n",
    "# print(probabilidade(data_test, ['x1']))\n",
    "# print(probabilidade(data_test, ['x2']))\n",
    "# print(probabilidade(data_test, ['x3']))\n",
    "# print()\n",
    "# print(probabilidade(data_test, ['x1', 'x2']))\n",
    "# print(probabilidade(data_test, ['x1', 'x3']))\n",
    "# print(probabilidade(data_test, ['x2', 'x3']))\n",
    "\n",
    "# print(entropy(data_test, ['x1']))\n",
    "# print(entropy(data_test, ['x2']))\n",
    "# print(entropy(data_test, ['x3']))\n",
    "# print(entropy(data_test, ['x1', 'x2']))\n",
    "# print(entropy(data_test, ['x1', 'x3']))\n",
    "# print(entropy(data_test, ['x2', 'x3']))\n",
    "\n",
    "# print(mutual_information(data_test, ['x1', 'x2']))\n",
    "print(mutual_information(data_test, ['x1', 'x3']))\n",
    "print(mutual_information(data_test, ['x2', 'x3']))\n",
    "\n",
    "# print(mutual_information_normalized(data_test, ['x1', 'x2']))\n",
    "print(mutual_information_normalized(data_test, ['x1', 'x3']))\n",
    "print(mutual_information_normalized(data_test, ['x2', 'x3']))\n"
   ]
  },
  {
   "cell_type": "markdown",
   "metadata": {},
   "source": [
    "### Resposta"
   ]
  },
  {
   "cell_type": "code",
   "execution_count": 14,
   "metadata": {},
   "outputs": [
    {
     "data": {
      "text/html": [
       "<div>\n",
       "<style scoped>\n",
       "    .dataframe tbody tr th:only-of-type {\n",
       "        vertical-align: middle;\n",
       "    }\n",
       "\n",
       "    .dataframe tbody tr th {\n",
       "        vertical-align: top;\n",
       "    }\n",
       "\n",
       "    .dataframe thead th {\n",
       "        text-align: right;\n",
       "    }\n",
       "</style>\n",
       "<table border=\"1\" class=\"dataframe\">\n",
       "  <thead>\n",
       "    <tr style=\"text-align: right;\">\n",
       "      <th></th>\n",
       "      <th>buying</th>\n",
       "      <th>maint</th>\n",
       "      <th>doors</th>\n",
       "      <th>persons</th>\n",
       "      <th>lug_boot</th>\n",
       "      <th>safety</th>\n",
       "      <th>class</th>\n",
       "    </tr>\n",
       "  </thead>\n",
       "  <tbody>\n",
       "    <tr>\n",
       "      <th>0</th>\n",
       "      <td>vhigh</td>\n",
       "      <td>vhigh</td>\n",
       "      <td>2</td>\n",
       "      <td>2</td>\n",
       "      <td>small</td>\n",
       "      <td>low</td>\n",
       "      <td>unacc</td>\n",
       "    </tr>\n",
       "    <tr>\n",
       "      <th>1</th>\n",
       "      <td>vhigh</td>\n",
       "      <td>vhigh</td>\n",
       "      <td>2</td>\n",
       "      <td>2</td>\n",
       "      <td>small</td>\n",
       "      <td>med</td>\n",
       "      <td>unacc</td>\n",
       "    </tr>\n",
       "    <tr>\n",
       "      <th>2</th>\n",
       "      <td>vhigh</td>\n",
       "      <td>vhigh</td>\n",
       "      <td>2</td>\n",
       "      <td>2</td>\n",
       "      <td>small</td>\n",
       "      <td>high</td>\n",
       "      <td>unacc</td>\n",
       "    </tr>\n",
       "    <tr>\n",
       "      <th>3</th>\n",
       "      <td>vhigh</td>\n",
       "      <td>vhigh</td>\n",
       "      <td>2</td>\n",
       "      <td>2</td>\n",
       "      <td>med</td>\n",
       "      <td>low</td>\n",
       "      <td>unacc</td>\n",
       "    </tr>\n",
       "    <tr>\n",
       "      <th>4</th>\n",
       "      <td>vhigh</td>\n",
       "      <td>vhigh</td>\n",
       "      <td>2</td>\n",
       "      <td>2</td>\n",
       "      <td>med</td>\n",
       "      <td>med</td>\n",
       "      <td>unacc</td>\n",
       "    </tr>\n",
       "  </tbody>\n",
       "</table>\n",
       "</div>"
      ],
      "text/plain": [
       "  buying  maint doors persons lug_boot safety  class\n",
       "0  vhigh  vhigh     2       2    small    low  unacc\n",
       "1  vhigh  vhigh     2       2    small    med  unacc\n",
       "2  vhigh  vhigh     2       2    small   high  unacc\n",
       "3  vhigh  vhigh     2       2      med    low  unacc\n",
       "4  vhigh  vhigh     2       2      med    med  unacc"
      ]
     },
     "execution_count": 14,
     "metadata": {},
     "output_type": "execute_result"
    }
   ],
   "source": [
    "## Leitura inicial\n",
    "features = ['buying', 'maint', 'doors', 'persons', 'lug_boot', 'safety', 'class']\n",
    "data = pd.read_csv('data/car.data', header = None, names = features)\n",
    "\n",
    "data.head()"
   ]
  },
  {
   "cell_type": "code",
   "execution_count": 15,
   "metadata": {},
   "outputs": [
    {
     "name": "stdout",
     "output_type": "stream",
     "text": [
      "Informação mútua normalizada entre class e safety: \n",
      "0.18965760884122598\n",
      "Informação mútua normalizada entre class e lug_boot: \n",
      "0.021707139165691364\n",
      "Informação mútua normalizada entre class e persons: \n",
      "0.1588986960379627\n",
      "Informação mútua normalizada entre class e doors: \n",
      "0.0028886161020757416\n",
      "Informação mútua normalizada entre class e maint: \n",
      "0.047462295455740225\n",
      "Informação mútua normalizada entre class e buying: \n",
      "0.062109149676966846\n"
     ]
    }
   ],
   "source": [
    "\n",
    "for i in range(len(features)-2, -1, -1):\n",
    "    print(f\"Informação mútua normalizada entre {features[len(features)-1]} e {features[i]}: \\n{mutual_information_normalized(data, [features[len(features)-1],features[i]])}\")"
   ]
  },
  {
   "cell_type": "markdown",
   "metadata": {},
   "source": [
    "Observa-se que os atributos mais correlacionados com a classificação são 'safety' e 'persons', o que indica que o nível de segurança e o número de lugares possuem grande influência na escolha da compra.\n",
    "Ambos os valores estão acima de 0,15. \n",
    "Todos os outros valores estão abaixo de 0,065, indicando que eles possuem menor correlação com a saída "
   ]
  }
 ],
 "metadata": {
  "kernelspec": {
   "display_name": ".venv",
   "language": "python",
   "name": "python3"
  },
  "language_info": {
   "codemirror_mode": {
    "name": "ipython",
    "version": 3
   },
   "file_extension": ".py",
   "mimetype": "text/x-python",
   "name": "python",
   "nbconvert_exporter": "python",
   "pygments_lexer": "ipython3",
   "version": "3.10.12"
  },
  "orig_nbformat": 4
 },
 "nbformat": 4,
 "nbformat_minor": 2
}
