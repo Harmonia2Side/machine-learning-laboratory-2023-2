{
 "cells": [
  {
   "cell_type": "markdown",
   "metadata": {},
   "source": [
    "# 1) Dada a base de dados Haberman's Survival (disponibilizada em http://archive.ics.uci.edu/dataset/43/haberman+s+survival), obtenha:\n",
    "## a) A média e variância de cada um dos atributos;\n",
    "## b) A média e variância de cada um dos atributos para cada uma das classes;\n",
    "## c) A matriz de coeficientes de correlação;\n",
    "## d) O histograma com 8 bins de cada um dos atributos para cada uma das classes (gere gráficos dos histogramas com cores diferentes para cada classe);\n",
    "## e) Gere um gráfico 3D das amostras, identificando cada classe. Analise o gráfico e informe se a tarefa de classificação é fácil ou difícil e justifique a sua resposta."
   ]
  },
  {
   "cell_type": "code",
   "execution_count": null,
   "metadata": {},
   "outputs": [],
   "source": [
    "# WARNING: N entendi o que baixar na 3C TODO ver isso depois\n",
    "    # CUDA. Lindo. Isso vai ser divertido: https://github.com/CannyLab/tsne-cuda\n"
   ]
  }
 ],
 "metadata": {
  "language_info": {
   "name": "python"
  },
  "orig_nbformat": 4
 },
 "nbformat": 4,
 "nbformat_minor": 2
}
