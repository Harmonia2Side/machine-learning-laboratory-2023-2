{
 "cells": [
  {
   "cell_type": "markdown",
   "metadata": {},
   "source": [
    "### Bibliotecas"
   ]
  },
  {
   "cell_type": "code",
   "execution_count": 2,
   "metadata": {},
   "outputs": [
    {
     "name": "stdout",
     "output_type": "stream",
     "text": [
      "Requirement already satisfied: numpy in /home/harmonia/codes/machine-learning-laboratory-2023-2/.venv/lib/python3.10/site-packages (1.26.1)\n",
      "Requirement already satisfied: matplotlib in /home/harmonia/codes/machine-learning-laboratory-2023-2/.venv/lib/python3.10/site-packages (3.8.1)\n",
      "Requirement already satisfied: pandas in /home/harmonia/codes/machine-learning-laboratory-2023-2/.venv/lib/python3.10/site-packages (2.1.2)\n",
      "Requirement already satisfied: seaborn in /home/harmonia/codes/machine-learning-laboratory-2023-2/.venv/lib/python3.10/site-packages (0.13.0)\n",
      "Requirement already satisfied: contourpy>=1.0.1 in /home/harmonia/codes/machine-learning-laboratory-2023-2/.venv/lib/python3.10/site-packages (from matplotlib) (1.2.0)\n",
      "Requirement already satisfied: cycler>=0.10 in /home/harmonia/codes/machine-learning-laboratory-2023-2/.venv/lib/python3.10/site-packages (from matplotlib) (0.12.1)\n",
      "Requirement already satisfied: fonttools>=4.22.0 in /home/harmonia/codes/machine-learning-laboratory-2023-2/.venv/lib/python3.10/site-packages (from matplotlib) (4.44.0)\n",
      "Requirement already satisfied: kiwisolver>=1.3.1 in /home/harmonia/codes/machine-learning-laboratory-2023-2/.venv/lib/python3.10/site-packages (from matplotlib) (1.4.5)\n",
      "Requirement already satisfied: packaging>=20.0 in /home/harmonia/codes/machine-learning-laboratory-2023-2/.venv/lib/python3.10/site-packages (from matplotlib) (23.2)\n",
      "Requirement already satisfied: pillow>=8 in /home/harmonia/codes/machine-learning-laboratory-2023-2/.venv/lib/python3.10/site-packages (from matplotlib) (10.1.0)\n",
      "Requirement already satisfied: pyparsing>=2.3.1 in /home/harmonia/codes/machine-learning-laboratory-2023-2/.venv/lib/python3.10/site-packages (from matplotlib) (3.1.1)\n",
      "Requirement already satisfied: python-dateutil>=2.7 in /home/harmonia/codes/machine-learning-laboratory-2023-2/.venv/lib/python3.10/site-packages (from matplotlib) (2.8.2)\n",
      "Requirement already satisfied: pytz>=2020.1 in /home/harmonia/codes/machine-learning-laboratory-2023-2/.venv/lib/python3.10/site-packages (from pandas) (2023.3.post1)\n",
      "Requirement already satisfied: tzdata>=2022.1 in /home/harmonia/codes/machine-learning-laboratory-2023-2/.venv/lib/python3.10/site-packages (from pandas) (2023.3)\n",
      "Requirement already satisfied: six>=1.5 in /home/harmonia/codes/machine-learning-laboratory-2023-2/.venv/lib/python3.10/site-packages (from python-dateutil>=2.7->matplotlib) (1.16.0)\n"
     ]
    }
   ],
   "source": [
    "# Instalação manual de bibliotecas\n",
    "!pip install numpy matplotlib pandas seaborn\n",
    "# Bibliotecas\n",
    "\n",
    "\n",
    "# import ml_utils as ml\n",
    "# %load_ext autoreload\n",
    "# %autoreload 2\n",
    "# %run -i ml_utils\n",
    "# %reload_ext autoreload\n",
    "\n",
    "import numpy as np\n",
    "import pandas as pd\n",
    "import matplotlib.pyplot as plt\n",
    "import seaborn as sb\n",
    "import math\n"
   ]
  },
  {
   "cell_type": "markdown",
   "metadata": {},
   "source": [
    "### Funções utilitárias"
   ]
  },
  {
   "cell_type": "code",
   "execution_count": 14,
   "metadata": {},
   "outputs": [],
   "source": [
    "def print_format(string, value):\n",
    "    print(f\"{string} =\\n{value}\")"
   ]
  },
  {
   "cell_type": "markdown",
   "metadata": {},
   "source": [
    "# 5) Para a base regressao1.csv, sabendo que x é a entrada e t é a saída, obtenha um modelo linear de regressão usando as primeiras 100 amostras para treino e o resto para teste. Obtenha novamente um modelo de regressão linear, mas usando agora RANSAC para eliminar os outliers dos dados de treino. Calcule os valores de RMSE e MAPE de ambos os modelos sobre os dados de teste e compare os resultados."
   ]
  },
  {
   "cell_type": "code",
   "execution_count": 4,
   "metadata": {},
   "outputs": [],
   "source": [
    "import numpy as np\n",
    "import pandas as pd\n",
    "import matplotlib.pyplot as plt\n",
    "import seaborn as sb\n",
    "import math"
   ]
  },
  {
   "cell_type": "code",
   "execution_count": 6,
   "metadata": {},
   "outputs": [
    {
     "name": "stdout",
     "output_type": "stream",
     "text": [
      "(201, 2)\n"
     ]
    },
    {
     "data": {
      "text/html": [
       "<div>\n",
       "<style scoped>\n",
       "    .dataframe tbody tr th:only-of-type {\n",
       "        vertical-align: middle;\n",
       "    }\n",
       "\n",
       "    .dataframe tbody tr th {\n",
       "        vertical-align: top;\n",
       "    }\n",
       "\n",
       "    .dataframe thead th {\n",
       "        text-align: right;\n",
       "    }\n",
       "</style>\n",
       "<table border=\"1\" class=\"dataframe\">\n",
       "  <thead>\n",
       "    <tr style=\"text-align: right;\">\n",
       "      <th></th>\n",
       "      <th>t</th>\n",
       "      <th>x</th>\n",
       "    </tr>\n",
       "  </thead>\n",
       "  <tbody>\n",
       "    <tr>\n",
       "      <th>0</th>\n",
       "      <td>3.1006</td>\n",
       "      <td>0.0</td>\n",
       "    </tr>\n",
       "    <tr>\n",
       "      <th>1</th>\n",
       "      <td>5.0442</td>\n",
       "      <td>0.5</td>\n",
       "    </tr>\n",
       "    <tr>\n",
       "      <th>2</th>\n",
       "      <td>5.0859</td>\n",
       "      <td>1.0</td>\n",
       "    </tr>\n",
       "    <tr>\n",
       "      <th>3</th>\n",
       "      <td>125.7102</td>\n",
       "      <td>1.5</td>\n",
       "    </tr>\n",
       "    <tr>\n",
       "      <th>4</th>\n",
       "      <td>7.2577</td>\n",
       "      <td>2.0</td>\n",
       "    </tr>\n",
       "  </tbody>\n",
       "</table>\n",
       "</div>"
      ],
      "text/plain": [
       "          t    x\n",
       "0    3.1006  0.0\n",
       "1    5.0442  0.5\n",
       "2    5.0859  1.0\n",
       "3  125.7102  1.5\n",
       "4    7.2577  2.0"
      ]
     },
     "execution_count": 6,
     "metadata": {},
     "output_type": "execute_result"
    }
   ],
   "source": [
    "## Leitura inicial\n",
    "# features = []\n",
    "data_raw = pd.read_csv('data/regressao1.csv', sep=';')\n",
    "print(data_raw.shape)\n",
    "\n",
    "data_raw.head()\n"
   ]
  },
  {
   "cell_type": "code",
   "execution_count": 7,
   "metadata": {},
   "outputs": [
    {
     "data": {
      "text/html": [
       "<div>\n",
       "<style scoped>\n",
       "    .dataframe tbody tr th:only-of-type {\n",
       "        vertical-align: middle;\n",
       "    }\n",
       "\n",
       "    .dataframe tbody tr th {\n",
       "        vertical-align: top;\n",
       "    }\n",
       "\n",
       "    .dataframe thead th {\n",
       "        text-align: right;\n",
       "    }\n",
       "</style>\n",
       "<table border=\"1\" class=\"dataframe\">\n",
       "  <thead>\n",
       "    <tr style=\"text-align: right;\">\n",
       "      <th></th>\n",
       "      <th>t</th>\n",
       "      <th>x</th>\n",
       "    </tr>\n",
       "  </thead>\n",
       "  <tbody>\n",
       "    <tr>\n",
       "      <th>count</th>\n",
       "      <td>201.000000</td>\n",
       "      <td>201.00000</td>\n",
       "    </tr>\n",
       "    <tr>\n",
       "      <th>mean</th>\n",
       "      <td>148.458627</td>\n",
       "      <td>50.00000</td>\n",
       "    </tr>\n",
       "    <tr>\n",
       "      <th>std</th>\n",
       "      <td>91.175334</td>\n",
       "      <td>29.08393</td>\n",
       "    </tr>\n",
       "    <tr>\n",
       "      <th>min</th>\n",
       "      <td>-145.683000</td>\n",
       "      <td>0.00000</td>\n",
       "    </tr>\n",
       "    <tr>\n",
       "      <th>25%</th>\n",
       "      <td>71.211900</td>\n",
       "      <td>25.00000</td>\n",
       "    </tr>\n",
       "    <tr>\n",
       "      <th>50%</th>\n",
       "      <td>149.379900</td>\n",
       "      <td>50.00000</td>\n",
       "    </tr>\n",
       "    <tr>\n",
       "      <th>75%</th>\n",
       "      <td>224.624300</td>\n",
       "      <td>75.00000</td>\n",
       "    </tr>\n",
       "    <tr>\n",
       "      <th>max</th>\n",
       "      <td>309.117200</td>\n",
       "      <td>100.00000</td>\n",
       "    </tr>\n",
       "  </tbody>\n",
       "</table>\n",
       "</div>"
      ],
      "text/plain": [
       "                t          x\n",
       "count  201.000000  201.00000\n",
       "mean   148.458627   50.00000\n",
       "std     91.175334   29.08393\n",
       "min   -145.683000    0.00000\n",
       "25%     71.211900   25.00000\n",
       "50%    149.379900   50.00000\n",
       "75%    224.624300   75.00000\n",
       "max    309.117200  100.00000"
      ]
     },
     "execution_count": 7,
     "metadata": {},
     "output_type": "execute_result"
    }
   ],
   "source": [
    "data_raw.describe()"
   ]
  },
  {
   "cell_type": "markdown",
   "metadata": {},
   "source": [
    "### Obtendo modelo de regressão linear"
   ]
  },
  {
   "attachments": {
    "image-2.png": {
     "image/png": "[encoded data removed]"
    },
    "image.png": {
     "image/png": "[encoded data removed]"
    }
   },
   "cell_type": "markdown",
   "metadata": {},
   "source": [
    "Estimativas dos parâmetros:\n",
    "\n",
    "![image.png](attachment:image.png)\n",
    "![image-2.png](attachment:image-2.png)"
   ]
  },
  {
   "cell_type": "code",
   "execution_count": 17,
   "metadata": {},
   "outputs": [
    {
     "name": "stdout",
     "output_type": "stream",
     "text": [
      "w1 =\n",
      "2.6250523132312895\n",
      "w0 =\n",
      "23.67702542934549\n"
     ]
    }
   ],
   "source": [
    "# Modelo ingênuo\n",
    "\n",
    "train_slice = np.arange(0, 100)\n",
    "data_train = data_raw.iloc[train_slice]\n",
    "train_slice = np.arange(101, data_raw.shape[0])\n",
    "data_train = data_raw.iloc[train_slice]\n",
    "\n",
    "# # Teste de sanidade\n",
    "# data_train = pd.DataFrame(\n",
    "#     {\n",
    "#         't': [4.8, 11.3, 17.2],\n",
    "#         'x': [1, 3, 5]\n",
    "#     }\n",
    "# )\n",
    "# # estima parâmetros iniciais do modelo\n",
    "# print((data_train['x']*data_train['t']).sum()/data_train.shape[0])\n",
    "# print(data_train['x'].mean() * data_train['t'].mean())\n",
    "# print((data_train['x']*data_train['x']).sum()/data_train.shape[0])\n",
    "# print(math.pow((data_train['x'].mean()),2))\n",
    "\n",
    "#\n",
    "w1 = (((data_train['x']*data_train['t']).sum()/data_train.shape[0]) - (data_train['x'].mean() * data_train['t'].mean()))/(((data_train['x']*data_train['x']).sum()/data_train.shape[0]) - math.pow((data_train['x'].mean()),2))\n",
    "print_format(\"w1\", w1)\n",
    "w0 = data_train['t'].mean() - w1*data_train['x'].mean()\n",
    "print_format(\"w0\", w0)\n",
    "\n",
    "# Modelo com RANSAC\n",
    "\n",
    "\n",
    "\n"
   ]
  }
 ],
 "metadata": {
  "kernelspec": {
   "display_name": ".venv",
   "language": "python",
   "name": "python3"
  },
  "language_info": {
   "codemirror_mode": {
    "name": "ipython",
    "version": 3
   },
   "file_extension": ".py",
   "mimetype": "text/x-python",
   "name": "python",
   "nbconvert_exporter": "python",
   "pygments_lexer": "ipython3",
   "version": "3.10.12"
  },
  "orig_nbformat": 4
 },
 "nbformat": 4,
 "nbformat_minor": 2
}
